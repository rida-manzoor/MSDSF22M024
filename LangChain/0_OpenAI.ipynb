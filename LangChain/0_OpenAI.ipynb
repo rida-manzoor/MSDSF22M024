{
  "cells": [
    {
      "cell_type": "markdown",
      "metadata": {
        "id": "view-in-github",
        "colab_type": "text"
      },
      "source": [
        "<a href=\"https://colab.research.google.com/github/rida-manzoor/GenAI/blob/main/0_OpenAI.ipynb\" target=\"_parent\"><img src=\"https://colab.research.google.com/assets/colab-badge.svg\" alt=\"Open In Colab\"/></a>"
      ]
    },
    {
      "cell_type": "markdown",
      "metadata": {
        "id": "CRKbYH2TrlJD",
        "jp-MarkdownHeadingCollapsed": true
      },
      "source": [
        "# LLM\n",
        "\n",
        "\n",
        "Generative AI generates new data based on training samples. It can generate audio, video, image etc as output.\n",
        "\n",
        "Large Language Models(LLM) are foundational machine learning models that use deep learning algorithms to process and understand natural language. These models are trained on massive amount of text data to learn patterns and entity relationships in the language.\n",
        "\n",
        "## Why we call it large language models?\n",
        "Because of size and complexity of neural networks as well as the size of data it is trained on.\n",
        "\n",
        "## Why LLM are so powerful?\n",
        "One model can be used for whole variety of tasks like text generation, chatbot, summarizer etc. So LLM is subset of Deep Learning and have some properties that merge with generative AI.\n",
        "\n",
        "## Few milestones in LLM\n",
        "\n",
        "*  **BERT**: Bidirectional Encoder Representation from Transformers(BERT) was developed by Google\n",
        "* **GPT**: Generative Pre trained Tranformer, developed by Open AI\n",
        "* **XLM**: Cross-Lingual Language model Pretraining by Guillaume Lample, Alexis Conneau\n",
        "* **T5**: Text-to-Text Transfer Transformer, developed by Google AI\n",
        "* **Megatron**: It is large, powerful transformer developed by Research Team by NVIDIA\n",
        "* **M2M-100**: Multi-lingual Encoder decoder (seq-to-seq) model, developed by researcher at Facebook.\n",
        "\n",
        "## How ChatGPT is trained?\n",
        "Internally using LLM whixh is gpt 3.5 or gpt 4. Trained on large amount of data available all over internet.\n",
        "\n",
        "* Generative Pre-training\n",
        "* Supervised Fine-Tuning\n",
        "* Reinforcement Learning"
      ]
    },
    {
      "cell_type": "markdown",
      "metadata": {
        "id": "P2AGGDZVW_ps",
        "jp-MarkdownHeadingCollapsed": true
      },
      "source": [
        "# Open AI vs HuggingFace\n",
        "\n",
        "On Hugging Face, every model is avaible. You can use any model irrespective who developed it. But OpenAI is seperate organization on which you can only access models which are developed by OpenAI.\n",
        "\n",
        "\n",
        "OpenAI is leading company in field of AI. It was founded in 2015 as a non profit organization by Sam Altman and Elon Musk. Company was founded with the goal of developing and promoting friendly AI in responsible way.\n",
        "\n",
        "\n",
        "## Tokens\n",
        "Text generation and embeddings models process text in chunks called tokens. Tokens represent commonly occurring sequences of characters. For example, the string \" tokenization\" is decomposed as \" token\" and \"ization\", while a short and common word like \" the\" is represented as a single token. Note that in a sentence, the first token of each word typically starts with a space character. As a rough rule of thumb, 1 token is approximately 4 characters or 0.75 words for English text.\n"
      ]
    },
    {
      "cell_type": "markdown",
      "metadata": {
        "id": "kUAMKjpIo8T_"
      },
      "source": [
        "## OpenAI models\n",
        "\n",
        "* **GPT4-o**: It is multimodel(accept image or text as input and give text as output). It has same intelligence level as GPT4 but it is more efficient. It generate text 2x faster and 50% cheaper.Trained on data till Oct 2023.\n",
        "* **GPT4-turbo and GPT4**: GPT-4 is a large multimodal model  that can solve difficult problems with greater accuracy than any of our previous models, thanks to its broader general knowledge and advanced reasoning capabilities.\n",
        "\n",
        "* **GPT3.5-turbo**: GPT-3.5 Turbo models can understand and generate natural language or code and have been optimized for chat.\n",
        "* **DALL-E**: DALL·E is a AI system that can create realistic images and art from a description in natural language. DALL·E 3 currently supports the ability, given a prompt, to create a new image with a specific size. DALL·E 2 also support the ability to edit an existing image, or create variations of a user provided image.\n",
        "* **TTS**: TTS is an AI model that converts text to natural sounding spoken text. We offer two different model variates, tts-1 is optimized for real time text to speech use cases and tts-1-hd is optimized for quality.\n",
        "* **Whisper**: Whisper is a general-purpose speech recognition model. It is trained on a large dataset of diverse audio and is also a multi-task model that can perform multilingual speech recognition as well as speech translation and language identification.\n"
      ]
    },
    {
      "cell_type": "markdown",
      "metadata": {
        "id": "55Ajhq-vs3Gx"
      },
      "source": [
        "# Text Generation Models\n",
        "OpenAI's text generation models (often called generative pre-trained transformers or large language models) have been trained to understand natural language, code, and images. The models provide text outputs in response to their inputs. The text inputs to these models are also referred to as \"prompts\".\n",
        "\n",
        "Designing a prompt is essentially how you “program” a large language model model, usually by providing instructions or some examples of how to successfully complete a task.\n",
        "\n"
      ]
    },
    {
      "cell_type": "code",
      "source": [
        "pip install --upgrade openai"
      ],
      "metadata": {
        "colab": {
          "base_uri": "https://localhost:8080/"
        },
        "id": "JULEuPSr6ujg",
        "outputId": "cd93f996-7374-464d-cb52-ac166bf55971"
      },
      "execution_count": null,
      "outputs": [
        {
          "output_type": "stream",
          "name": "stdout",
          "text": [
            "Collecting openai\n",
            "  Downloading openai-1.30.3-py3-none-any.whl (320 kB)\n",
            "\u001b[2K     \u001b[90m━━━━━━━━━━━━━━━━━━━━━━━━━━━━━━━━━━━━━━━━\u001b[0m \u001b[32m320.6/320.6 kB\u001b[0m \u001b[31m3.1 MB/s\u001b[0m eta \u001b[36m0:00:00\u001b[0m\n",
            "\u001b[?25hRequirement already satisfied: anyio<5,>=3.5.0 in /usr/local/lib/python3.10/dist-packages (from openai) (3.7.1)\n",
            "Requirement already satisfied: distro<2,>=1.7.0 in /usr/lib/python3/dist-packages (from openai) (1.7.0)\n",
            "Collecting httpx<1,>=0.23.0 (from openai)\n",
            "  Downloading httpx-0.27.0-py3-none-any.whl (75 kB)\n",
            "\u001b[2K     \u001b[90m━━━━━━━━━━━━━━━━━━━━━━━━━━━━━━━━━━━━━━━━\u001b[0m \u001b[32m75.6/75.6 kB\u001b[0m \u001b[31m4.6 MB/s\u001b[0m eta \u001b[36m0:00:00\u001b[0m\n",
            "\u001b[?25hRequirement already satisfied: pydantic<3,>=1.9.0 in /usr/local/lib/python3.10/dist-packages (from openai) (2.7.1)\n",
            "Requirement already satisfied: sniffio in /usr/local/lib/python3.10/dist-packages (from openai) (1.3.1)\n",
            "Requirement already satisfied: tqdm>4 in /usr/local/lib/python3.10/dist-packages (from openai) (4.66.4)\n",
            "Requirement already satisfied: typing-extensions<5,>=4.7 in /usr/local/lib/python3.10/dist-packages (from openai) (4.11.0)\n",
            "Requirement already satisfied: idna>=2.8 in /usr/local/lib/python3.10/dist-packages (from anyio<5,>=3.5.0->openai) (3.7)\n",
            "Requirement already satisfied: exceptiongroup in /usr/local/lib/python3.10/dist-packages (from anyio<5,>=3.5.0->openai) (1.2.1)\n",
            "Requirement already satisfied: certifi in /usr/local/lib/python3.10/dist-packages (from httpx<1,>=0.23.0->openai) (2024.2.2)\n",
            "Collecting httpcore==1.* (from httpx<1,>=0.23.0->openai)\n",
            "  Downloading httpcore-1.0.5-py3-none-any.whl (77 kB)\n",
            "\u001b[2K     \u001b[90m━━━━━━━━━━━━━━━━━━━━━━━━━━━━━━━━━━━━━━━━\u001b[0m \u001b[32m77.9/77.9 kB\u001b[0m \u001b[31m2.7 MB/s\u001b[0m eta \u001b[36m0:00:00\u001b[0m\n",
            "\u001b[?25hCollecting h11<0.15,>=0.13 (from httpcore==1.*->httpx<1,>=0.23.0->openai)\n",
            "  Downloading h11-0.14.0-py3-none-any.whl (58 kB)\n",
            "\u001b[2K     \u001b[90m━━━━━━━━━━━━━━━━━━━━━━━━━━━━━━━━━━━━━━━━\u001b[0m \u001b[32m58.3/58.3 kB\u001b[0m \u001b[31m3.8 MB/s\u001b[0m eta \u001b[36m0:00:00\u001b[0m\n",
            "\u001b[?25hRequirement already satisfied: annotated-types>=0.4.0 in /usr/local/lib/python3.10/dist-packages (from pydantic<3,>=1.9.0->openai) (0.7.0)\n",
            "Requirement already satisfied: pydantic-core==2.18.2 in /usr/local/lib/python3.10/dist-packages (from pydantic<3,>=1.9.0->openai) (2.18.2)\n",
            "Installing collected packages: h11, httpcore, httpx, openai\n",
            "Successfully installed h11-0.14.0 httpcore-1.0.5 httpx-0.27.0 openai-1.30.3\n"
          ]
        }
      ]
    },
    {
      "cell_type": "code",
      "execution_count": null,
      "metadata": {
        "id": "2R9QpZ6lnxhb"
      },
      "outputs": [],
      "source": [
        "import openai"
      ]
    },
    {
      "cell_type": "markdown",
      "metadata": {
        "id": "hW3gbx6g6p9P"
      },
      "source": [
        "# What is OpenAI API?\n",
        "This openAI API is designed to provide developers a seemless access to state of the art, pretrained, AI models like gpt3.5, wispher, etc. By using API you can add cutting edge capabilities to your application."
      ]
    },
    {
      "cell_type": "code",
      "execution_count": null,
      "metadata": {
        "id": "M635fqZR6p9P"
      },
      "outputs": [],
      "source": [
        "mykey= 's'"
      ]
    },
    {
      "cell_type": "code",
      "execution_count": null,
      "metadata": {
        "id": "10yG3Rfs6p9P"
      },
      "outputs": [],
      "source": [
        "openai.api_key=mykey"
      ]
    },
    {
      "cell_type": "code",
      "execution_count": null,
      "metadata": {
        "id": "eV27W7C-6p9Q"
      },
      "outputs": [],
      "source": [
        "from openai import OpenAI"
      ]
    },
    {
      "cell_type": "code",
      "execution_count": null,
      "metadata": {
        "id": "T9D4JKXT6p9Q"
      },
      "outputs": [],
      "source": [
        "x=openai.models.list()"
      ]
    },
    {
      "cell_type": "code",
      "execution_count": null,
      "metadata": {
        "id": "OSIVzADu6p9R",
        "outputId": "bf4f42ae-638a-4c4c-e535-591166ff5d73"
      },
      "outputs": [
        {
          "data": {
            "text/plain": [
              "[Model(id='dall-e-3', created=1698785189, object='model', owned_by='system'),\n",
              " Model(id='gpt-4-1106-preview', created=1698957206, object='model', owned_by='system'),\n",
              " Model(id='whisper-1', created=1677532384, object='model', owned_by='openai-internal'),\n",
              " Model(id='davinci-002', created=1692634301, object='model', owned_by='system'),\n",
              " Model(id='gpt-4-turbo-preview', created=1706037777, object='model', owned_by='system'),\n",
              " Model(id='gpt-4-0125-preview', created=1706037612, object='model', owned_by='system'),\n",
              " Model(id='babbage-002', created=1692634615, object='model', owned_by='system'),\n",
              " Model(id='dall-e-2', created=1698798177, object='model', owned_by='system'),\n",
              " Model(id='gpt-3.5-turbo-16k', created=1683758102, object='model', owned_by='openai-internal'),\n",
              " Model(id='tts-1-hd-1106', created=1699053533, object='model', owned_by='system'),\n",
              " Model(id='tts-1-hd', created=1699046015, object='model', owned_by='system'),\n",
              " Model(id='gpt-4', created=1687882411, object='model', owned_by='openai'),\n",
              " Model(id='gpt-4-0613', created=1686588896, object='model', owned_by='openai'),\n",
              " Model(id='gpt-3.5-turbo-1106', created=1698959748, object='model', owned_by='system'),\n",
              " Model(id='gpt-3.5-turbo-instruct-0914', created=1694122472, object='model', owned_by='system'),\n",
              " Model(id='gpt-3.5-turbo-instruct', created=1692901427, object='model', owned_by='system'),\n",
              " Model(id='tts-1', created=1681940951, object='model', owned_by='openai-internal'),\n",
              " Model(id='gpt-3.5-turbo-0301', created=1677649963, object='model', owned_by='openai'),\n",
              " Model(id='gpt-3.5-turbo-0125', created=1706048358, object='model', owned_by='system'),\n",
              " Model(id='gpt-3.5-turbo', created=1677610602, object='model', owned_by='openai'),\n",
              " Model(id='tts-1-1106', created=1699053241, object='model', owned_by='system'),\n",
              " Model(id='text-embedding-3-large', created=1705953180, object='model', owned_by='system'),\n",
              " Model(id='gpt-4-turbo-2024-04-09', created=1712601677, object='model', owned_by='system'),\n",
              " Model(id='gpt-4-turbo', created=1712361441, object='model', owned_by='system'),\n",
              " Model(id='text-embedding-3-small', created=1705948997, object='model', owned_by='system'),\n",
              " Model(id='gpt-3.5-turbo-0613', created=1686587434, object='model', owned_by='openai'),\n",
              " Model(id='text-embedding-ada-002', created=1671217299, object='model', owned_by='openai-internal'),\n",
              " Model(id='gpt-4-1106-vision-preview', created=1711473033, object='model', owned_by='system'),\n",
              " Model(id='gpt-4-vision-preview', created=1698894917, object='model', owned_by='system'),\n",
              " Model(id='gpt-3.5-turbo-16k-0613', created=1685474247, object='model', owned_by='openai'),\n",
              " Model(id='gpt-4o', created=1715367049, object='model', owned_by='system'),\n",
              " Model(id='gpt-4o-2024-05-13', created=1715368132, object='model', owned_by='system')]"
            ]
          },
          "execution_count": 7,
          "metadata": {},
          "output_type": "execute_result"
        }
      ],
      "source": [
        "list(x)"
      ]
    },
    {
      "cell_type": "code",
      "execution_count": null,
      "metadata": {
        "id": "GGuIv5Q-6p9S",
        "outputId": "f6ab9d1b-5934-4b21-9a8f-ab0bd31f85c5"
      },
      "outputs": [
        {
          "data": {
            "text/html": [
              "<div>\n",
              "<style scoped>\n",
              "    .dataframe tbody tr th:only-of-type {\n",
              "        vertical-align: middle;\n",
              "    }\n",
              "\n",
              "    .dataframe tbody tr th {\n",
              "        vertical-align: top;\n",
              "    }\n",
              "\n",
              "    .dataframe thead th {\n",
              "        text-align: right;\n",
              "    }\n",
              "</style>\n",
              "<table border=\"1\" class=\"dataframe\">\n",
              "  <thead>\n",
              "    <tr style=\"text-align: right;\">\n",
              "      <th></th>\n",
              "      <th>id</th>\n",
              "      <th>Created</th>\n",
              "      <th>Object</th>\n",
              "      <th>Owned_by</th>\n",
              "    </tr>\n",
              "  </thead>\n",
              "  <tbody>\n",
              "    <tr>\n",
              "      <th>0</th>\n",
              "      <td>(id, dall-e-3)</td>\n",
              "      <td>(created, 1698785189)</td>\n",
              "      <td>(object, model)</td>\n",
              "      <td>(owned_by, system)</td>\n",
              "    </tr>\n",
              "    <tr>\n",
              "      <th>1</th>\n",
              "      <td>(id, gpt-4-1106-preview)</td>\n",
              "      <td>(created, 1698957206)</td>\n",
              "      <td>(object, model)</td>\n",
              "      <td>(owned_by, system)</td>\n",
              "    </tr>\n",
              "    <tr>\n",
              "      <th>2</th>\n",
              "      <td>(id, whisper-1)</td>\n",
              "      <td>(created, 1677532384)</td>\n",
              "      <td>(object, model)</td>\n",
              "      <td>(owned_by, openai-internal)</td>\n",
              "    </tr>\n",
              "    <tr>\n",
              "      <th>3</th>\n",
              "      <td>(id, davinci-002)</td>\n",
              "      <td>(created, 1692634301)</td>\n",
              "      <td>(object, model)</td>\n",
              "      <td>(owned_by, system)</td>\n",
              "    </tr>\n",
              "    <tr>\n",
              "      <th>4</th>\n",
              "      <td>(id, gpt-4-turbo-preview)</td>\n",
              "      <td>(created, 1706037777)</td>\n",
              "      <td>(object, model)</td>\n",
              "      <td>(owned_by, system)</td>\n",
              "    </tr>\n",
              "    <tr>\n",
              "      <th>5</th>\n",
              "      <td>(id, gpt-4-0125-preview)</td>\n",
              "      <td>(created, 1706037612)</td>\n",
              "      <td>(object, model)</td>\n",
              "      <td>(owned_by, system)</td>\n",
              "    </tr>\n",
              "    <tr>\n",
              "      <th>6</th>\n",
              "      <td>(id, babbage-002)</td>\n",
              "      <td>(created, 1692634615)</td>\n",
              "      <td>(object, model)</td>\n",
              "      <td>(owned_by, system)</td>\n",
              "    </tr>\n",
              "    <tr>\n",
              "      <th>7</th>\n",
              "      <td>(id, dall-e-2)</td>\n",
              "      <td>(created, 1698798177)</td>\n",
              "      <td>(object, model)</td>\n",
              "      <td>(owned_by, system)</td>\n",
              "    </tr>\n",
              "    <tr>\n",
              "      <th>8</th>\n",
              "      <td>(id, gpt-3.5-turbo-16k)</td>\n",
              "      <td>(created, 1683758102)</td>\n",
              "      <td>(object, model)</td>\n",
              "      <td>(owned_by, openai-internal)</td>\n",
              "    </tr>\n",
              "    <tr>\n",
              "      <th>9</th>\n",
              "      <td>(id, tts-1-hd-1106)</td>\n",
              "      <td>(created, 1699053533)</td>\n",
              "      <td>(object, model)</td>\n",
              "      <td>(owned_by, system)</td>\n",
              "    </tr>\n",
              "    <tr>\n",
              "      <th>10</th>\n",
              "      <td>(id, tts-1-hd)</td>\n",
              "      <td>(created, 1699046015)</td>\n",
              "      <td>(object, model)</td>\n",
              "      <td>(owned_by, system)</td>\n",
              "    </tr>\n",
              "    <tr>\n",
              "      <th>11</th>\n",
              "      <td>(id, gpt-4)</td>\n",
              "      <td>(created, 1687882411)</td>\n",
              "      <td>(object, model)</td>\n",
              "      <td>(owned_by, openai)</td>\n",
              "    </tr>\n",
              "    <tr>\n",
              "      <th>12</th>\n",
              "      <td>(id, gpt-4-0613)</td>\n",
              "      <td>(created, 1686588896)</td>\n",
              "      <td>(object, model)</td>\n",
              "      <td>(owned_by, openai)</td>\n",
              "    </tr>\n",
              "    <tr>\n",
              "      <th>13</th>\n",
              "      <td>(id, gpt-3.5-turbo-1106)</td>\n",
              "      <td>(created, 1698959748)</td>\n",
              "      <td>(object, model)</td>\n",
              "      <td>(owned_by, system)</td>\n",
              "    </tr>\n",
              "    <tr>\n",
              "      <th>14</th>\n",
              "      <td>(id, gpt-3.5-turbo-instruct-0914)</td>\n",
              "      <td>(created, 1694122472)</td>\n",
              "      <td>(object, model)</td>\n",
              "      <td>(owned_by, system)</td>\n",
              "    </tr>\n",
              "    <tr>\n",
              "      <th>15</th>\n",
              "      <td>(id, gpt-3.5-turbo-instruct)</td>\n",
              "      <td>(created, 1692901427)</td>\n",
              "      <td>(object, model)</td>\n",
              "      <td>(owned_by, system)</td>\n",
              "    </tr>\n",
              "    <tr>\n",
              "      <th>16</th>\n",
              "      <td>(id, tts-1)</td>\n",
              "      <td>(created, 1681940951)</td>\n",
              "      <td>(object, model)</td>\n",
              "      <td>(owned_by, openai-internal)</td>\n",
              "    </tr>\n",
              "    <tr>\n",
              "      <th>17</th>\n",
              "      <td>(id, gpt-3.5-turbo-0301)</td>\n",
              "      <td>(created, 1677649963)</td>\n",
              "      <td>(object, model)</td>\n",
              "      <td>(owned_by, openai)</td>\n",
              "    </tr>\n",
              "    <tr>\n",
              "      <th>18</th>\n",
              "      <td>(id, gpt-3.5-turbo-0125)</td>\n",
              "      <td>(created, 1706048358)</td>\n",
              "      <td>(object, model)</td>\n",
              "      <td>(owned_by, system)</td>\n",
              "    </tr>\n",
              "    <tr>\n",
              "      <th>19</th>\n",
              "      <td>(id, gpt-3.5-turbo)</td>\n",
              "      <td>(created, 1677610602)</td>\n",
              "      <td>(object, model)</td>\n",
              "      <td>(owned_by, openai)</td>\n",
              "    </tr>\n",
              "    <tr>\n",
              "      <th>20</th>\n",
              "      <td>(id, tts-1-1106)</td>\n",
              "      <td>(created, 1699053241)</td>\n",
              "      <td>(object, model)</td>\n",
              "      <td>(owned_by, system)</td>\n",
              "    </tr>\n",
              "    <tr>\n",
              "      <th>21</th>\n",
              "      <td>(id, text-embedding-3-large)</td>\n",
              "      <td>(created, 1705953180)</td>\n",
              "      <td>(object, model)</td>\n",
              "      <td>(owned_by, system)</td>\n",
              "    </tr>\n",
              "    <tr>\n",
              "      <th>22</th>\n",
              "      <td>(id, gpt-4-turbo-2024-04-09)</td>\n",
              "      <td>(created, 1712601677)</td>\n",
              "      <td>(object, model)</td>\n",
              "      <td>(owned_by, system)</td>\n",
              "    </tr>\n",
              "    <tr>\n",
              "      <th>23</th>\n",
              "      <td>(id, gpt-4-turbo)</td>\n",
              "      <td>(created, 1712361441)</td>\n",
              "      <td>(object, model)</td>\n",
              "      <td>(owned_by, system)</td>\n",
              "    </tr>\n",
              "    <tr>\n",
              "      <th>24</th>\n",
              "      <td>(id, text-embedding-3-small)</td>\n",
              "      <td>(created, 1705948997)</td>\n",
              "      <td>(object, model)</td>\n",
              "      <td>(owned_by, system)</td>\n",
              "    </tr>\n",
              "    <tr>\n",
              "      <th>25</th>\n",
              "      <td>(id, gpt-3.5-turbo-0613)</td>\n",
              "      <td>(created, 1686587434)</td>\n",
              "      <td>(object, model)</td>\n",
              "      <td>(owned_by, openai)</td>\n",
              "    </tr>\n",
              "    <tr>\n",
              "      <th>26</th>\n",
              "      <td>(id, text-embedding-ada-002)</td>\n",
              "      <td>(created, 1671217299)</td>\n",
              "      <td>(object, model)</td>\n",
              "      <td>(owned_by, openai-internal)</td>\n",
              "    </tr>\n",
              "    <tr>\n",
              "      <th>27</th>\n",
              "      <td>(id, gpt-4-1106-vision-preview)</td>\n",
              "      <td>(created, 1711473033)</td>\n",
              "      <td>(object, model)</td>\n",
              "      <td>(owned_by, system)</td>\n",
              "    </tr>\n",
              "    <tr>\n",
              "      <th>28</th>\n",
              "      <td>(id, gpt-4-vision-preview)</td>\n",
              "      <td>(created, 1698894917)</td>\n",
              "      <td>(object, model)</td>\n",
              "      <td>(owned_by, system)</td>\n",
              "    </tr>\n",
              "    <tr>\n",
              "      <th>29</th>\n",
              "      <td>(id, gpt-3.5-turbo-16k-0613)</td>\n",
              "      <td>(created, 1685474247)</td>\n",
              "      <td>(object, model)</td>\n",
              "      <td>(owned_by, openai)</td>\n",
              "    </tr>\n",
              "    <tr>\n",
              "      <th>30</th>\n",
              "      <td>(id, gpt-4o)</td>\n",
              "      <td>(created, 1715367049)</td>\n",
              "      <td>(object, model)</td>\n",
              "      <td>(owned_by, system)</td>\n",
              "    </tr>\n",
              "    <tr>\n",
              "      <th>31</th>\n",
              "      <td>(id, gpt-4o-2024-05-13)</td>\n",
              "      <td>(created, 1715368132)</td>\n",
              "      <td>(object, model)</td>\n",
              "      <td>(owned_by, system)</td>\n",
              "    </tr>\n",
              "  </tbody>\n",
              "</table>\n",
              "</div>"
            ],
            "text/plain": [
              "                                   id                Created           Object  \\\n",
              "0                      (id, dall-e-3)  (created, 1698785189)  (object, model)   \n",
              "1            (id, gpt-4-1106-preview)  (created, 1698957206)  (object, model)   \n",
              "2                     (id, whisper-1)  (created, 1677532384)  (object, model)   \n",
              "3                   (id, davinci-002)  (created, 1692634301)  (object, model)   \n",
              "4           (id, gpt-4-turbo-preview)  (created, 1706037777)  (object, model)   \n",
              "5            (id, gpt-4-0125-preview)  (created, 1706037612)  (object, model)   \n",
              "6                   (id, babbage-002)  (created, 1692634615)  (object, model)   \n",
              "7                      (id, dall-e-2)  (created, 1698798177)  (object, model)   \n",
              "8             (id, gpt-3.5-turbo-16k)  (created, 1683758102)  (object, model)   \n",
              "9                 (id, tts-1-hd-1106)  (created, 1699053533)  (object, model)   \n",
              "10                     (id, tts-1-hd)  (created, 1699046015)  (object, model)   \n",
              "11                        (id, gpt-4)  (created, 1687882411)  (object, model)   \n",
              "12                   (id, gpt-4-0613)  (created, 1686588896)  (object, model)   \n",
              "13           (id, gpt-3.5-turbo-1106)  (created, 1698959748)  (object, model)   \n",
              "14  (id, gpt-3.5-turbo-instruct-0914)  (created, 1694122472)  (object, model)   \n",
              "15       (id, gpt-3.5-turbo-instruct)  (created, 1692901427)  (object, model)   \n",
              "16                        (id, tts-1)  (created, 1681940951)  (object, model)   \n",
              "17           (id, gpt-3.5-turbo-0301)  (created, 1677649963)  (object, model)   \n",
              "18           (id, gpt-3.5-turbo-0125)  (created, 1706048358)  (object, model)   \n",
              "19                (id, gpt-3.5-turbo)  (created, 1677610602)  (object, model)   \n",
              "20                   (id, tts-1-1106)  (created, 1699053241)  (object, model)   \n",
              "21       (id, text-embedding-3-large)  (created, 1705953180)  (object, model)   \n",
              "22       (id, gpt-4-turbo-2024-04-09)  (created, 1712601677)  (object, model)   \n",
              "23                  (id, gpt-4-turbo)  (created, 1712361441)  (object, model)   \n",
              "24       (id, text-embedding-3-small)  (created, 1705948997)  (object, model)   \n",
              "25           (id, gpt-3.5-turbo-0613)  (created, 1686587434)  (object, model)   \n",
              "26       (id, text-embedding-ada-002)  (created, 1671217299)  (object, model)   \n",
              "27    (id, gpt-4-1106-vision-preview)  (created, 1711473033)  (object, model)   \n",
              "28         (id, gpt-4-vision-preview)  (created, 1698894917)  (object, model)   \n",
              "29       (id, gpt-3.5-turbo-16k-0613)  (created, 1685474247)  (object, model)   \n",
              "30                       (id, gpt-4o)  (created, 1715367049)  (object, model)   \n",
              "31            (id, gpt-4o-2024-05-13)  (created, 1715368132)  (object, model)   \n",
              "\n",
              "                       Owned_by  \n",
              "0            (owned_by, system)  \n",
              "1            (owned_by, system)  \n",
              "2   (owned_by, openai-internal)  \n",
              "3            (owned_by, system)  \n",
              "4            (owned_by, system)  \n",
              "5            (owned_by, system)  \n",
              "6            (owned_by, system)  \n",
              "7            (owned_by, system)  \n",
              "8   (owned_by, openai-internal)  \n",
              "9            (owned_by, system)  \n",
              "10           (owned_by, system)  \n",
              "11           (owned_by, openai)  \n",
              "12           (owned_by, openai)  \n",
              "13           (owned_by, system)  \n",
              "14           (owned_by, system)  \n",
              "15           (owned_by, system)  \n",
              "16  (owned_by, openai-internal)  \n",
              "17           (owned_by, openai)  \n",
              "18           (owned_by, system)  \n",
              "19           (owned_by, openai)  \n",
              "20           (owned_by, system)  \n",
              "21           (owned_by, system)  \n",
              "22           (owned_by, system)  \n",
              "23           (owned_by, system)  \n",
              "24           (owned_by, system)  \n",
              "25           (owned_by, openai)  \n",
              "26  (owned_by, openai-internal)  \n",
              "27           (owned_by, system)  \n",
              "28           (owned_by, system)  \n",
              "29           (owned_by, openai)  \n",
              "30           (owned_by, system)  \n",
              "31           (owned_by, system)  "
            ]
          },
          "execution_count": 10,
          "metadata": {},
          "output_type": "execute_result"
        }
      ],
      "source": [
        "import pandas as pd\n",
        "pd.DataFrame(list(x),columns=['id','Created','Object','Owned_by'])"
      ]
    },
    {
      "cell_type": "markdown",
      "metadata": {
        "id": "pkgnYU4Q6p9S"
      },
      "source": [
        "# OpenAI Playground\n",
        "\n",
        "1. How to open playground? https://platform.openai.com/playground?mode=assistant\n",
        "2. If you wanna use it, make sure you have credits. Otherwise it will not work   :)\n",
        "3. In chat there is option of system (that will specify how chatbot will behave.\n"
      ]
    },
    {
      "cell_type": "markdown",
      "source": [
        "# Chat Completion API and Function Calling\n",
        "\n",
        "* **openai.Completion.create()**:  This method is used to generate completions or reponses. You provide a series of messages as input, and the API generate a model-generated message as output.\n"
      ],
      "metadata": {
        "id": "y-yMLeVg644K"
      }
    },
    {
      "cell_type": "code",
      "source": [],
      "metadata": {
        "id": "D9JLISgC63Lc"
      },
      "execution_count": null,
      "outputs": []
    },
    {
      "cell_type": "code",
      "execution_count": null,
      "metadata": {
        "id": "TlA4-3Z96p9T"
      },
      "outputs": [],
      "source": []
    }
  ],
  "metadata": {
    "colab": {
      "provenance": [],
      "include_colab_link": true
    },
    "kernelspec": {
      "display_name": "Python 3 (ipykernel)",
      "language": "python",
      "name": "python3"
    },
    "language_info": {
      "codemirror_mode": {
        "name": "ipython",
        "version": 3
      },
      "file_extension": ".py",
      "mimetype": "text/x-python",
      "name": "python",
      "nbconvert_exporter": "python",
      "pygments_lexer": "ipython3",
      "version": "3.8.19"
    }
  },
  "nbformat": 4,
  "nbformat_minor": 0
}