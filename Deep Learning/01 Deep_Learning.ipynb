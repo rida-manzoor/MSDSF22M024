{
  "cells": [
    {
      "cell_type": "markdown",
      "source": [
        "# AI vs ML vs DL vs DS\n",
        "\n",
        "## **Artificial Intelligence**\n",
        "\n",
        "Artificial Intelligence (AI) is the development of computer systems that can perform tasks requiring human-like intelligence, such as learning, reasoning, and problem-solving.\n",
        "\n",
        "In an application, not everything is AI. There will be part that will be utilizing AI. For example Netflix is not entirely an AI application but it can be using recommendation system which is AI.\n",
        "\n",
        "\n",
        "## **Machine Learning**\n",
        "\n",
        "Machine Learning (ML) is a subset of artificial intelligence that focuses on the development of algorithms and models that enable computers to learn from data, make predictions, and improve their performance over time without explicit programming.\n",
        "\n",
        "*Types of ML techniques*\n",
        "\n",
        "\n",
        "*   Supervised ML\n",
        "      - Classification\n",
        "          - Binary\n",
        "          - Multiclass\n",
        "          - MultiLabel\n",
        "      - Regression\n",
        "          - Forcasting\n",
        "*   UnSupervised ML\n",
        "    - Clustering\n",
        "    - Dimensionality Reduction\n",
        "* Semi Supervised ML\n",
        "    - Reinforcement Learning\n",
        "\n",
        "\n",
        "## **Deep Learning**\n",
        "\n",
        "Deep Learning (DL) is a subset of machine learning that utilizes deep neural networks to automatically learn and represent patterns from data.\n",
        "\n",
        "* ANN\n",
        "  - Tabular Data\n",
        "* CNN (Image Data)\n",
        " - Image classification\n",
        " - Object Detection\n",
        " - Segementation\n",
        " - Tracking\n",
        " - GAN\n",
        "* RNN (Text or sequential Data)\n",
        " - RNN\n",
        " - LSTM RNN\n",
        " - Bidirectional LSTM RNN\n",
        " - Encoder Decoder\n",
        " - Transformer\n",
        " - BERT\n",
        " - GPT1, GPT2, GPT3\n",
        "\n",
        "\n",
        " ## **Data Science**\n",
        "\n",
        " Data Science is an interdisciplinary field that involves the extraction of insights and knowledge from structured and unstructured data through techniques such as statistical analysis, machine learning, data mining, and visualization, to inform decision-making and solve complex problems.\n",
        "\n",
        "\n",
        "\n",
        "\n"
      ],
      "metadata": {
        "id": "BffnnLQxSAf4"
      }
    },
    {
      "cell_type": "markdown",
      "metadata": {
        "id": "kRv06neWJ9T4"
      },
      "source": [
        "# **What is Deep Learning?**\n",
        "> DL Alogorithm attempt to draw similar conclusion as human by continuously analyzing data with given logical structure called neural network.\n",
        "\n",
        "![alt](https://media.geeksforgeeks.org/wp-content/uploads/20211226150052/kisspngdeeplearningartificialneuralnetworkmachineleneurons5adb77d61591897756916615243325020884.png)\n",
        "\n",
        "[Source](https://www.geeksforgeeks.org/introduction-deep-learning/)\n"
      ]
    },
    {
      "cell_type": "markdown",
      "metadata": {
        "id": "Jy43VpavLuZc"
      },
      "source": [
        "## Types of Neural Network\n",
        "1. ANN\n",
        "2. CNN\n",
        "3. RNN\n",
        "4. GAN\n",
        "\n",
        "and many more"
      ]
    },
    {
      "cell_type": "markdown",
      "metadata": {
        "id": "dLiE00K3MJzh"
      },
      "source": [
        "| Machine Learning   | Deep learning |\n",
        "| -------- | ------- |\n",
        "| Can work on the smaller amount of dataset  | Requires the larger volume of dataset   |\n",
        "| It can work on the CPU or requires less computing power as compared to deep learning. | It requires a high-performance computer with GPU.  |\n",
        "| Less complex and easy to interpret the result. | More complex, it works like the black box interpretations of the result are not easy.|\n",
        "| A model is created by relevant features which are manually extracted from images to detect an object in the image. | Relevant features are automatically extracted from images. It is an end-to-end learning process.|\n",
        "| Takes less time to train the model. Testing time high | Takes more time to train the model. Testing time low |\n",
        "| Apply statistical algorithms to learn the hidden patterns and relationships in the dataset. | Uses artificial neural network architecture to learn the hidden patterns and relationships in the dataset.|"
      ]
    },
    {
      "cell_type": "markdown",
      "metadata": {
        "id": "0HrfvYKl0X5s"
      },
      "source": [
        "# **Perceptron**\n",
        "> are basic building block of neural network.\n",
        "\n",
        " Initially, in the mid of 19th century, **Mr. Frank Rosenblatt** invented the Perceptron for performing certain calculations to detect input data capabilities. Perceptron is a *linear Machine Learning algorithm* used for supervised learning for various binary classifiers. This algorithm enables neurons to learn elements and processes them one by one during preparation.\n",
        "\n",
        " ![slt](https://static.javatpoint.com/tutorial/machine-learning/images/perceptron-in-machine-learning2.png)\n",
        "\n",
        " [Source](https://www.javatpoint.com/perceptron-in-machine-learning)\n",
        "\n",
        "\n",
        "In above image, x1, x2, xm are inputs of the network. w0 is bais. Net input function is simple function that compute dot product of input values. It will be as follow:\n",
        "\n",
        "$ z = x_1 w_1 + x_2 w_2 + x_m w_m + b $\n",
        "\n",
        "Activation function is used to convert this value of z within some range. It is just a mathematical function. There are many kinds of activation functions. Step function is the simplest of all.\n",
        "\n",
        "![awd](https://encrypted-tbn0.gstatic.com/images?q=tbn:ANd9GcQpxPVWJZ7Khwh_9ij1OEMdW3Qui342JtqQib056J98Pz46moe7Uldi&usqp=CAE&s)\n",
        "\n",
        "[Source](https://en.wikipedia.org/wiki/Heaviside_step_function)"
      ]
    },
    {
      "cell_type": "markdown",
      "metadata": {
        "id": "xXBFa4d1SBha"
      },
      "source": [
        "## **Perceptron Trick**\n",
        "\n",
        "If we see summation equation we realize that it is nothing but a line equation\n",
        "\n",
        "$ Ax + Bx + C = 0 $\n",
        "\n",
        "![alt](https://ryanwingate.com/intro-to-machine-learning/deep/perceptron/perceptron-1.png)\n",
        "\n",
        "\n",
        "[Source](https://ryanwingate.com/intro-to-machine-learning/deep/perceptron/)\n",
        "\n",
        "Suppose we have student test marks and grades, output will be either student will pass exam or not. Firstly, algorithm initialize a random line Then loop will be initialized where every data point is taken, if data is correctly classified, nothing will happen. If data point is misclassified, line will move in direction towards point. Eventually we get a line where mostly data points are correctly classified.\n"
      ]
    },
    {
      "cell_type": "code",
      "execution_count": null,
      "metadata": {
        "id": "cWJl6g-ZJ6gh"
      },
      "outputs": [],
      "source": [
        "from sklearn.datasets import make_classification\n",
        "import numpy as np\n",
        "\n",
        "# Generating dataset having two features and two classes using make_classification\n",
        "\n",
        "x,y = make_classification(n_samples=100, n_features=2, n_redundant=0, n_informative=1,\n",
        "                          n_clusters_per_class=1,\n",
        "                          random_state=41, hypercube=False, class_sep=10,\n",
        "                          n_classes=2)"
      ]
    },
    {
      "cell_type": "code",
      "execution_count": null,
      "metadata": {
        "id": "yO7vw3t8UprN"
      },
      "outputs": [],
      "source": [
        "import matplotlib.pyplot as plt"
      ]
    },
    {
      "cell_type": "code",
      "execution_count": null,
      "metadata": {
        "colab": {
          "base_uri": "https://localhost:8080/",
          "height": 462
        },
        "id": "eyDpHZ73VCJL",
        "outputId": "63903a2f-919f-4a4c-e2cf-893da3f01e76"
      },
      "outputs": [
        {
          "data": {
            "text/plain": [
              "<matplotlib.collections.PathCollection at 0x7f5c474a1d20>"
            ]
          },
          "execution_count": 41,
          "metadata": {},
          "output_type": "execute_result"
        },
        {
          "data": {
            "image/png": "[encoded data removed]",
            "text/plain": [
              "<Figure size 500x500 with 1 Axes>"
            ]
          },
          "metadata": {},
          "output_type": "display_data"
        }
      ],
      "source": [
        "#Plotting data points\n",
        "plt.figure(figsize=(5,5))\n",
        "plt.scatter(x[:,0],x[:,1], c=y, cmap='winter', s=400)"
      ]
    },
    {
      "cell_type": "code",
      "execution_count": null,
      "metadata": {
        "colab": {
          "base_uri": "https://localhost:8080/"
        },
        "id": "WedrYU7rV2Ym",
        "outputId": "9ea75507-dc01-40a8-947f-859622e8b487"
      },
      "outputs": [
        {
          "data": {
            "text/plain": [
              "array([[ 0.19924745, -0.11697552],\n",
              "       [-0.24882029, -0.73115232],\n",
              "       [-0.3544904 , -0.7081059 ],\n",
              "       [-1.59086506, -2.01199214],\n",
              "       [-0.20083951,  1.63493163],\n",
              "       [-0.83241122,  0.15599044],\n",
              "       [-1.79207014,  1.07782053],\n",
              "       [ 0.0856607 ,  0.80626713],\n",
              "       [-0.55865299,  0.74859527],\n",
              "       [-1.95974262,  0.75152794],\n",
              "       [-1.77828947, -0.90114581],\n",
              "       [-1.77985853, -0.1815243 ],\n",
              "       [-0.02194151, -2.98092432],\n",
              "       [ 0.80563431,  1.20500136],\n",
              "       [-1.82701214,  0.78302407],\n",
              "       [ 0.38730728,  0.42968688],\n",
              "       [-0.14108668, -0.73229726],\n",
              "       [-1.87955941, -0.83930476],\n",
              "       [-0.18232911,  0.83727062],\n",
              "       [-1.77059533, -0.10255323],\n",
              "       [-2.27658028,  0.65867001],\n",
              "       [-2.06519502,  0.92649819],\n",
              "       [-1.31690551,  0.10216193],\n",
              "       [ 1.61043259,  0.46886454],\n",
              "       [-1.21650394,  0.45432938],\n",
              "       [ 0.6139723 ,  1.8613386 ],\n",
              "       [-1.78760957, -0.79255991],\n",
              "       [-1.04149161, -1.0004391 ],\n",
              "       [-2.40067584, -0.53814137],\n",
              "       [-1.80383452,  0.44027716],\n",
              "       [-1.44075613,  0.27047889],\n",
              "       [ 1.34989978, -0.75869267],\n",
              "       [ 0.22520167,  0.6802322 ],\n",
              "       [ 0.53688527,  0.17018845],\n",
              "       [ 0.55483459, -1.01121977],\n",
              "       [-0.32178185, -0.8394709 ],\n",
              "       [-0.98821248,  0.90327412],\n",
              "       [ 0.67394805,  1.16981747],\n",
              "       [-1.60913592,  0.53461406],\n",
              "       [ 0.75727194, -0.22100631],\n",
              "       [-1.32591376, -0.64584571],\n",
              "       [-0.91783293,  0.21243302],\n",
              "       [-1.35578147,  0.98654083],\n",
              "       [ 1.46869659,  0.67382928],\n",
              "       [-0.80540713, -0.11323563],\n",
              "       [ 1.08059816,  0.91694693],\n",
              "       [ 0.14667326,  0.3645213 ],\n",
              "       [-1.37324548, -0.78470874],\n",
              "       [-1.09742089, -1.48004137],\n",
              "       [-0.92017476,  0.72931763],\n",
              "       [ 0.22020513, -0.60000139],\n",
              "       [-0.3515292 ,  0.14720034],\n",
              "       [-1.42135667,  0.35215601],\n",
              "       [ 0.94415309,  0.17388705],\n",
              "       [ 2.14488191, -0.17162755],\n",
              "       [-1.52699536,  0.03763193],\n",
              "       [ 1.0347932 ,  0.48360467],\n",
              "       [-2.05551135, -0.07909256],\n",
              "       [-1.33241395,  0.06158897],\n",
              "       [-0.10615042, -1.20413846],\n",
              "       [ 0.89910594,  0.77324391],\n",
              "       [-1.32152694,  0.7640092 ],\n",
              "       [-1.96489671,  1.57200032],\n",
              "       [ 0.97099786,  0.47296516],\n",
              "       [ 0.0520771 ,  0.0642074 ],\n",
              "       [-0.66393984,  1.52469135],\n",
              "       [-1.8937672 , -2.1450828 ],\n",
              "       [ 0.5941446 , -0.7701428 ],\n",
              "       [-1.55261523,  0.84455766],\n",
              "       [-0.9998803 ,  1.29753064],\n",
              "       [-2.39664251, -0.84276652],\n",
              "       [ 0.27537438,  2.0615874 ],\n",
              "       [ 1.0723376 , -0.3036533 ],\n",
              "       [-1.4577388 , -0.1656085 ],\n",
              "       [ 1.06667457,  1.16969713],\n",
              "       [ 0.67498344, -0.3038555 ],\n",
              "       [-2.18254559, -0.4788978 ],\n",
              "       [ 0.96395115,  0.28128262],\n",
              "       [-1.3155857 ,  0.70412341],\n",
              "       [ 0.7158603 ,  0.3757601 ],\n",
              "       [-0.16186654,  0.97247545],\n",
              "       [ 1.341869  ,  0.56868381],\n",
              "       [-1.46023043, -0.39767934],\n",
              "       [ 1.37645492, -1.08933729],\n",
              "       [-0.35770727, -1.81663939],\n",
              "       [-1.8640534 ,  1.41775924],\n",
              "       [-1.7826468 ,  0.27098296],\n",
              "       [-1.18927817, -0.56186639],\n",
              "       [ 0.26654845,  0.42168159],\n",
              "       [-1.28809059, -2.95373116],\n",
              "       [ 0.75163482,  0.19492133],\n",
              "       [ 1.16254252, -0.04578681],\n",
              "       [-1.15890056, -0.18860967],\n",
              "       [-1.48693688,  0.44635682],\n",
              "       [ 0.75292818, -1.49814775],\n",
              "       [-2.12332717,  0.66198774],\n",
              "       [-1.53599817,  0.07153265],\n",
              "       [-1.46034714,  0.32323638],\n",
              "       [ 0.83626582, -0.34574201],\n",
              "       [-0.26570627,  0.06499922]])"
            ]
          },
          "execution_count": 42,
          "metadata": {},
          "output_type": "execute_result"
        }
      ],
      "source": [
        "x"
      ]
    },
    {
      "cell_type": "code",
      "execution_count": null,
      "metadata": {
        "colab": {
          "base_uri": "https://localhost:8080/"
        },
        "id": "BIpzs1IBV4uD",
        "outputId": "23f999ae-9c18-4718-869f-87ec7db9fe78"
      },
      "outputs": [
        {
          "data": {
            "text/plain": [
              "array([1, 1, 1, 0, 1, 0, 0, 1, 1, 0, 0, 0, 1, 1, 0, 1, 1, 0, 1, 0, 0, 0,\n",
              "       0, 1, 0, 1, 0, 0, 0, 0, 0, 1, 1, 1, 1, 1, 0, 1, 0, 1, 0, 0, 0, 1,\n",
              "       0, 1, 1, 0, 0, 0, 1, 1, 0, 1, 1, 0, 1, 0, 0, 1, 1, 0, 0, 1, 1, 1,\n",
              "       0, 1, 0, 0, 0, 1, 1, 0, 1, 1, 0, 1, 0, 1, 1, 1, 0, 1, 1, 0, 0, 0,\n",
              "       1, 0, 1, 1, 0, 0, 1, 0, 0, 0, 1, 1])"
            ]
          },
          "execution_count": 43,
          "metadata": {},
          "output_type": "execute_result"
        }
      ],
      "source": [
        "y"
      ]
    },
    {
      "cell_type": "code",
      "execution_count": null,
      "metadata": {
        "id": "f_B4--vQVdlF"
      },
      "outputs": [],
      "source": [
        "# Define a funtion name perceptron. Firstly inserting 1 in x to add baisness in data. Initializing array of weights having ones.\n",
        "\n",
        "# Loop will run thousand time, each time random datapoint will be choosen out of 100 datapoint and stored in j. Next use step function and stores it's value to\n",
        "# y_hat.\n",
        "\n",
        "def perceptron(x,y):\n",
        "  x = np.insert(x,0,1,axis=1)\n",
        "  weights = np.ones(x.shape[1])\n",
        "  lr = 0.1\n",
        "\n",
        "  for i in range (1000):\n",
        "    j = np.random.randint(0,100)\n",
        "    y_hat = step(np.dot(x[j],weights))\n",
        "    weights = weights + lr*(y[j]-y_hat)*x[j]\n",
        "\n",
        "  return weights[0], weights[1:]"
      ]
    },
    {
      "cell_type": "code",
      "execution_count": null,
      "metadata": {
        "id": "jS0hDqmqXI_A"
      },
      "outputs": [],
      "source": [
        "# Define step function\n",
        "\n",
        "def step(z):\n",
        "  return 1 if z>0 else 0"
      ]
    },
    {
      "cell_type": "code",
      "execution_count": null,
      "metadata": {
        "id": "_d8sj4OxXrFZ"
      },
      "outputs": [],
      "source": [
        "intercept_,coef_ = perceptron(x,y)"
      ]
    },
    {
      "cell_type": "code",
      "execution_count": null,
      "metadata": {
        "colab": {
          "base_uri": "https://localhost:8080/"
        },
        "id": "OkRztNOwX-tR",
        "outputId": "cac5a8ee-1bee-4b91-dd6d-dc2506679497"
      },
      "outputs": [
        {
          "name": "stdout",
          "output_type": "stream",
          "text": [
            "[1.37909792 0.16876075]\n",
            "1.0\n"
          ]
        }
      ],
      "source": [
        "print(coef_)\n",
        "print(intercept_)"
      ]
    },
    {
      "cell_type": "code",
      "execution_count": null,
      "metadata": {
        "id": "zt6uj17UYKX8"
      },
      "outputs": [],
      "source": [
        "# Finding m and b because we have to draw a line\n",
        "m = -(coef_[0]/coef_[1])\n",
        "b = -(intercept_/coef_[1])"
      ]
    },
    {
      "cell_type": "code",
      "execution_count": null,
      "metadata": {
        "id": "hF_7U_83Yl5i"
      },
      "outputs": [],
      "source": [
        "x_input = np.linspace(-3,3,1000)\n",
        "y_input = m*x_input + b"
      ]
    },
    {
      "cell_type": "code",
      "execution_count": null,
      "metadata": {
        "colab": {
          "base_uri": "https://localhost:8080/",
          "height": 539
        },
        "id": "4gggLRa3Y1KS",
        "outputId": "a7140d8f-b565-4e2f-ef54-b8f51b157a7d"
      },
      "outputs": [
        {
          "data": {
            "text/plain": [
              "<matplotlib.collections.PathCollection at 0x7f5c47499450>"
            ]
          },
          "execution_count": 52,
          "metadata": {},
          "output_type": "execute_result"
        },
        {
          "data": {
            "image/png": "[encoded data removed]",
            "text/plain": [
              "<Figure size 800x600 with 1 Axes>"
            ]
          },
          "metadata": {},
          "output_type": "display_data"
        }
      ],
      "source": [
        "#Plotting final line that is classfied by algo.\n",
        "plt.figure(figsize=(8,6))\n",
        "plt.plot(x_input,y_input,color='red',linewidth=3)\n",
        "plt.scatter(x[:,0],x[:,1],c=y, cmap='winter',s=100)"
      ]
    },
    {
      "cell_type": "markdown",
      "metadata": {
        "id": "J7Hj_UM0cQka"
      },
      "source": [
        "### Problems with perceptron trick\n",
        "\n",
        "1. Can not decide how much our line is correct\n",
        "2. Convergance can be problematic"
      ]
    },
    {
      "cell_type": "markdown",
      "metadata": {
        "id": "JQQesVjzbkN0"
      },
      "source": [
        "## **Perceptron Loss Function**\n",
        "\n",
        "Loss functions are used to tell how good our model is working.\n",
        "\n",
        "How can be loss fun seen:\n",
        "1. missclassified values\n",
        "2. Missclassified points with their distance from line.\n",
        "\n",
        "In perceptron we do not use distance, rather we use coordinate of point and put it in line's equation.\n",
        "\n",
        "**Loss function implemented in sklearn for perceptron** is as follow:\n",
        "\n",
        "$ L(w_1,w_2,b) = \\frac{1}{n} ∑ L(y_i,f(x_i))   $\n",
        "\n",
        "In above equation we are ignoring regularization part, we are not considering it right now. Here\n",
        "\n",
        "$L(y_i,f(x_i)) = max(0,-y_if(x_i))  $\n",
        "\n",
        "$f(x_i) = w_1x_1 + w_2x_2+b = z  $\n",
        "\n"
      ]
    },
    {
      "cell_type": "markdown",
      "metadata": {
        "id": "2lsxh6WAf3UW"
      },
      "source": [
        "## **Problems with perceptron**\n",
        "\n",
        "1. It can not converge on nonlinear data (XOR data)"
      ]
    },
    {
      "cell_type": "markdown",
      "metadata": {
        "id": "TQTkEqcZgPrB"
      },
      "source": [
        "# **MLP Notation**\n",
        "\n",
        "![alr](data:image/jpeg;base64,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)"
      ]
    },
    {
      "cell_type": "markdown",
      "metadata": {
        "id": "nEeJIU55heP5"
      },
      "source": [
        "\n",
        "[Source](https://www.google.com/imgres?imgurl=https%3A%2F%2Fwww.researchgate.net%2Fpublication%2F347060333%2Ffigure%2Ffig1%2FAS%3A1022603317739520%401620819038053%2FArtificial-neural-network-with-4-layers-in-total-First-one-is-an-input-layer-two-other.png&tbnid=RzgC6JLp-MUu_M&vet=12ahUKEwi0r-ao3LCDAxXbmicCHRNsD7EQMygAegQIARBV..i&imgrefurl=https%3A%2F%2Fwww.researchgate.net%2Ffigure%2FArtificial-neural-network-with-4-layers-in-total-First-one-is-an-input-layer-two-other_fig1_347060333&docid=r5bqwDf2gXfy1M&w=607&h=397&q=ann%20with%204%20layers&ved=2ahUKEwi0r-ao3LCDAxXbmicCHRNsD7EQMygAegQIARBV)\n"
      ]
    },
    {
      "cell_type": "markdown",
      "metadata": {
        "id": "v9fqHEj4hzjH"
      },
      "source": [
        "Data {m x n}\n",
        "\n",
        "m = number of rows\n",
        "\n",
        "n = number of columns\n",
        "\n",
        "each row is denoted by $x_i$\n",
        "\n",
        "**Trainable parameter**:\n",
        "1. Layer 1: 12 wights + 4 bais\n",
        "2. Layer 2: 16 weights + 4 bais\n",
        "3. Layer 3: 4 wights + 1 Bais\n",
        "\n",
        "Total trainable parameters = 16 + 20 + 5 = 41\n",
        "\n",
        "**Notation for bais** $b_(ij)$  \n",
        "\n",
        "\"i\" is number of layer\n",
        "\n",
        "\"j\" is number of node\n",
        "\n",
        "**Notation for output**  $O_(ij)$\n",
        "\n",
        "\n",
        "**Notation for weight** $w^k_(ij)$\n",
        "\n",
        "\"i\"  number of node from which it is coming in previous layer\n",
        "\n",
        "\"j\"  number of node it is entering in layer\n",
        "\n",
        "\"k\"  number of layer weight is entering"
      ]
    },
    {
      "cell_type": "markdown",
      "metadata": {
        "id": "ppL2CMQNlREp"
      },
      "source": [
        "## **Forward propagation**\n",
        "\n",
        "The input data is fed in the forward direction through the network. Each hidden layer accepts the input data, processes it as per the activation function and passes to the successive layer.\n",
        "\n",
        "\n",
        "**Layer 1**\n",
        "\n",
        " \\begin{align}\n",
        "        \\begin{pmatrix}\n",
        "        w_(11)^1 & w_(12)^1  & w_(13)^1\\\\\n",
        "         w_(21)^1 & w_(22)^1 & w_(23)^1\\\\\n",
        "          w_(31)^1 & w_(32)^1 & w_(33)^1 \\\\\n",
        "          w_(41)^1 & w_(42)^1 & w_(43)^1\n",
        "        \\end{pmatrix}^T\n",
        "        \\begin{pmatrix}\n",
        "        x_(i1)\\\\\n",
        "         x_(i2) \\\\\n",
        "          x_(i3)  \\\\\n",
        "          x_(i4)\n",
        "        \\end{pmatrix} +\n",
        "         \\begin{pmatrix}\n",
        "        b_(11)\\\\\n",
        "        b_(12) \\\\\n",
        "        b_(13)  \n",
        "        \\end{pmatrix}\n",
        "    \\end{align}\n",
        "\n",
        "**Layer 2**\n",
        "\n",
        "\n",
        " \\begin{align}\n",
        "        \\begin{pmatrix}\n",
        "        w_(11)^2 & w_(12)^2 \\\\\n",
        "         w_(21)^2 & w_(22)^2 \\\\\n",
        "          w_(31)^2 & w_(32)^2  \n",
        "          \\end{pmatrix}^T\n",
        "        \\begin{pmatrix}\n",
        "        o_(11)\\\\\n",
        "         o_(12) \\\\\n",
        "          o_(13)\n",
        "        \\end{pmatrix} +\n",
        "         \\begin{pmatrix}\n",
        "        b_(21)\\\\\n",
        "        b_(22)   \n",
        "        \\end{pmatrix}\n",
        "    \\end{align}\n",
        "\n",
        "**Layer 3**\n",
        "\n",
        "\n",
        " \\begin{align}\n",
        "        \\begin{pmatrix}\n",
        "        w_(11)^3 & w_(12)^3 \\\\\n",
        "         w_(21)^3 & w_(22)^3\n",
        "          \\end{pmatrix}^T\n",
        "        \\begin{pmatrix}\n",
        "        o_(21)\\\\\n",
        "         o_(22)\n",
        "        \\end{pmatrix} +\n",
        "         \\begin{pmatrix}\n",
        "        b_(31)  \n",
        "        \\end{pmatrix}\n",
        "    \\end{align}"
      ]
    },
    {
      "cell_type": "markdown",
      "metadata": {
        "id": "-GTtsrCRpihC"
      },
      "source": []
    },
    {
      "cell_type": "code",
      "execution_count": null,
      "metadata": {
        "id": "iIjPCxkRZSbl"
      },
      "outputs": [],
      "source": []
    }
  ],
  "metadata": {
    "colab": {
      "provenance": []
    },
    "kernelspec": {
      "display_name": "Python 3 (ipykernel)",
      "language": "python",
      "name": "python3"
    },
    "language_info": {
      "codemirror_mode": {
        "name": "ipython",
        "version": 3
      },
      "file_extension": ".py",
      "mimetype": "text/x-python",
      "name": "python",
      "nbconvert_exporter": "python",
      "pygments_lexer": "ipython3",
      "version": "3.11.5"
    }
  },
  "nbformat": 4,
  "nbformat_minor": 0
}