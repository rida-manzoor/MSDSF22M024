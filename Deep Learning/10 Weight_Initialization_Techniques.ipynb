{
 "cells": [
  {
   "cell_type": "markdown",
   "metadata": {
    "colab_type": "text",
    "id": "view-in-github"
   },
   "source": [
    "<a href=\"https://colab.research.google.com/github/rida-manzoor/DL/blob/main/Weight_Initialization_Techniques.ipynb\" target=\"_parent\"><img src=\"https://colab.research.google.com/assets/colab-badge.svg\" alt=\"Open In Colab\"/></a>"
   ]
  },
  {
   "cell_type": "markdown",
   "metadata": {
    "id": "rMH7Td9y4Ums"
   },
   "source": [
    "## **Why it is important?**\n",
    "\n",
    "1. Initialize Parameters\n",
    "2. Choose optimization ALgorithm\n",
    "3. Repeat these step:\n",
    "    1. Forward propagate input\n",
    "    2. Compute cost function\n",
    "    3. Compute gradient of cost function w.r.t parameters using backpropagation\n",
    "    4. Update each parameter using gradient, according to optimization algorithm\n",
    "\n",
    "\n",
    "If parameters(Weights) is not initialized correctly it can cause following **problems:**\n",
    "- Vanising Gradient\n",
    "- Exploding Gradient\n",
    "- Slow Convergence"
   ]
  },
  {
   "cell_type": "markdown",
   "metadata": {
    "id": "-iJpfwCr5gtg"
   },
   "source": [
    "## **What Not To Do**\n",
    "1. **Zero Initialization**\n",
    "\n",
    "![Cap](data:image/jpeg;base64,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)"
   ]
  },
  {
   "cell_type": "markdown",
   "metadata": {
    "id": "tu7njLfr6RSe"
   },
   "source": [
    "Let's assume this network, We have\n",
    "- two inputs $$ x_1, x_2 $$\n",
    "- One hidden layer with two nodes\n",
    "- In output layer, activation function is linear because we are considering regression problem here.\n",
    "\n",
    "\n",
    "For once suppose activation function in hidden layer is **ReLu**\n",
    "\n",
    "So Activation of a_11 will be: $$ a_(11) = max(0,z_(11))$$\n",
    "\n",
    "Where, $$z_(11) = w^1_(11) x_1 * w^1_(21) x_2 + b_(11)$$\n",
    "\n",
    "So Activation of a_12 will be: $$ a_(12) = max(0,z_(12))$$\n",
    "\n",
    "Where, $$z_(12) = w^1_(12) x_1 * w^1_(22) x_2 + b_(12)$$\n",
    "\n",
    "\n",
    "So,due to zero weights and bais output of both activation functions will be equal and zero. During backpropagation, it's derivative will also be zero. Weights will not be updated.That mean no training will place."
   ]
  },
  {
   "cell_type": "code",
   "execution_count": 1,
   "metadata": {
    "id": "3UfWJviqozUF"
   },
   "outputs": [],
   "source": [
    "import numpy as np\n",
    "import pandas as pd\n",
    "import matplotlib.pyplot as plt"
   ]
  },
  {
   "cell_type": "code",
   "execution_count": 2,
   "metadata": {
    "id": "ZzIy2pIt9zaq"
   },
   "outputs": [],
   "source": [
    "df = pd.read_csv('/content/ushape.csv')"
   ]
  },
  {
   "cell_type": "code",
   "execution_count": 5,
   "metadata": {
    "id": "qN3i1t-S-9vg"
   },
   "outputs": [],
   "source": [
    "df.columns = ['X', 'Y', 'class']"
   ]
  },
  {
   "cell_type": "code",
   "execution_count": 6,
   "metadata": {
    "colab": {
     "base_uri": "https://localhost:8080/",
     "height": 206
    },
    "id": "N_pFlbyb-TkM",
    "outputId": "552b01c6-5af2-442d-9cd2-e34143f68895"
   },
   "outputs": [
    {
     "data": {
      "text/html": [
       "\n",
       "  <div id=\"df-59f1c918-c254-4947-9438-fa2bec738abe\" class=\"colab-df-container\">\n",
       "    <div>\n",
       "<style scoped>\n",
       "    .dataframe tbody tr th:only-of-type {\n",
       "        vertical-align: middle;\n",
       "    }\n",
       "\n",
       "    .dataframe tbody tr th {\n",
       "        vertical-align: top;\n",
       "    }\n",
       "\n",
       "    .dataframe thead th {\n",
       "        text-align: right;\n",
       "    }\n",
       "</style>\n",
       "<table border=\"1\" class=\"dataframe\">\n",
       "  <thead>\n",
       "    <tr style=\"text-align: right;\">\n",
       "      <th></th>\n",
       "      <th>X</th>\n",
       "      <th>Y</th>\n",
       "      <th>class</th>\n",
       "    </tr>\n",
       "  </thead>\n",
       "  <tbody>\n",
       "    <tr>\n",
       "      <th>0</th>\n",
       "      <td>2.115098</td>\n",
       "      <td>-0.046244</td>\n",
       "      <td>1.0</td>\n",
       "    </tr>\n",
       "    <tr>\n",
       "      <th>1</th>\n",
       "      <td>0.882490</td>\n",
       "      <td>-0.075756</td>\n",
       "      <td>0.0</td>\n",
       "    </tr>\n",
       "    <tr>\n",
       "      <th>2</th>\n",
       "      <td>-0.055144</td>\n",
       "      <td>-0.037332</td>\n",
       "      <td>1.0</td>\n",
       "    </tr>\n",
       "    <tr>\n",
       "      <th>3</th>\n",
       "      <td>0.829545</td>\n",
       "      <td>-0.539321</td>\n",
       "      <td>1.0</td>\n",
       "    </tr>\n",
       "    <tr>\n",
       "      <th>4</th>\n",
       "      <td>2.112857</td>\n",
       "      <td>0.662084</td>\n",
       "      <td>1.0</td>\n",
       "    </tr>\n",
       "  </tbody>\n",
       "</table>\n",
       "</div>\n",
       "    <div class=\"colab-df-buttons\">\n",
       "\n",
       "  <div class=\"colab-df-container\">\n",
       "    <button class=\"colab-df-convert\" onclick=\"convertToInteractive('df-59f1c918-c254-4947-9438-fa2bec738abe')\"\n",
       "            title=\"Convert this dataframe to an interactive table.\"\n",
       "            style=\"display:none;\">\n",
       "\n",
       "  <svg xmlns=\"http://www.w3.org/2000/svg\" height=\"24px\" viewBox=\"0 -960 960 960\">\n",
       "    <path d=\"M120-120v-720h720v720H120Zm60-500h600v-160H180v160Zm220 220h160v-160H400v160Zm0 220h160v-160H400v160ZM180-400h160v-160H180v160Zm440 0h160v-160H620v160ZM180-180h160v-160H180v160Zm440 0h160v-160H620v160Z\"/>\n",
       "  </svg>\n",
       "    </button>\n",
       "\n",
       "  <style>\n",
       "    .colab-df-container {\n",
       "      display:flex;\n",
       "      gap: 12px;\n",
       "    }\n",
       "\n",
       "    .colab-df-convert {\n",
       "      background-color: #E8F0FE;\n",
       "      border: none;\n",
       "      border-radius: 50%;\n",
       "      cursor: pointer;\n",
       "      display: none;\n",
       "      fill: #1967D2;\n",
       "      height: 32px;\n",
       "      padding: 0 0 0 0;\n",
       "      width: 32px;\n",
       "    }\n",
       "\n",
       "    .colab-df-convert:hover {\n",
       "      background-color: #E2EBFA;\n",
       "      box-shadow: 0px 1px 2px rgba(60, 64, 67, 0.3), 0px 1px 3px 1px rgba(60, 64, 67, 0.15);\n",
       "      fill: #174EA6;\n",
       "    }\n",
       "\n",
       "    .colab-df-buttons div {\n",
       "      margin-bottom: 4px;\n",
       "    }\n",
       "\n",
       "    [theme=dark] .colab-df-convert {\n",
       "      background-color: #3B4455;\n",
       "      fill: #D2E3FC;\n",
       "    }\n",
       "\n",
       "    [theme=dark] .colab-df-convert:hover {\n",
       "      background-color: #434B5C;\n",
       "      box-shadow: 0px 1px 3px 1px rgba(0, 0, 0, 0.15);\n",
       "      filter: drop-shadow(0px 1px 2px rgba(0, 0, 0, 0.3));\n",
       "      fill: #FFFFFF;\n",
       "    }\n",
       "  </style>\n",
       "\n",
       "    <script>\n",
       "      const buttonEl =\n",
       "        document.querySelector('#df-59f1c918-c254-4947-9438-fa2bec738abe button.colab-df-convert');\n",
       "      buttonEl.style.display =\n",
       "        google.colab.kernel.accessAllowed ? 'block' : 'none';\n",
       "\n",
       "      async function convertToInteractive(key) {\n",
       "        const element = document.querySelector('#df-59f1c918-c254-4947-9438-fa2bec738abe');\n",
       "        const dataTable =\n",
       "          await google.colab.kernel.invokeFunction('convertToInteractive',\n",
       "                                                    [key], {});\n",
       "        if (!dataTable) return;\n",
       "\n",
       "        const docLinkHtml = 'Like what you see? Visit the ' +\n",
       "          '<a target=\"_blank\" href=https://colab.research.google.com/notebooks/data_table.ipynb>data table notebook</a>'\n",
       "          + ' to learn more about interactive tables.';\n",
       "        element.innerHTML = '';\n",
       "        dataTable['output_type'] = 'display_data';\n",
       "        await google.colab.output.renderOutput(dataTable, element);\n",
       "        const docLink = document.createElement('div');\n",
       "        docLink.innerHTML = docLinkHtml;\n",
       "        element.appendChild(docLink);\n",
       "      }\n",
       "    </script>\n",
       "  </div>\n",
       "\n",
       "\n",
       "<div id=\"df-6dda7f08-d644-4787-b8e4-feefce41e4b5\">\n",
       "  <button class=\"colab-df-quickchart\" onclick=\"quickchart('df-6dda7f08-d644-4787-b8e4-feefce41e4b5')\"\n",
       "            title=\"Suggest charts\"\n",
       "            style=\"display:none;\">\n",
       "\n",
       "<svg xmlns=\"http://www.w3.org/2000/svg\" height=\"24px\"viewBox=\"0 0 24 24\"\n",
       "     width=\"24px\">\n",
       "    <g>\n",
       "        <path d=\"M19 3H5c-1.1 0-2 .9-2 2v14c0 1.1.9 2 2 2h14c1.1 0 2-.9 2-2V5c0-1.1-.9-2-2-2zM9 17H7v-7h2v7zm4 0h-2V7h2v10zm4 0h-2v-4h2v4z\"/>\n",
       "    </g>\n",
       "</svg>\n",
       "  </button>\n",
       "\n",
       "<style>\n",
       "  .colab-df-quickchart {\n",
       "      --bg-color: #E8F0FE;\n",
       "      --fill-color: #1967D2;\n",
       "      --hover-bg-color: #E2EBFA;\n",
       "      --hover-fill-color: #174EA6;\n",
       "      --disabled-fill-color: #AAA;\n",
       "      --disabled-bg-color: #DDD;\n",
       "  }\n",
       "\n",
       "  [theme=dark] .colab-df-quickchart {\n",
       "      --bg-color: #3B4455;\n",
       "      --fill-color: #D2E3FC;\n",
       "      --hover-bg-color: #434B5C;\n",
       "      --hover-fill-color: #FFFFFF;\n",
       "      --disabled-bg-color: #3B4455;\n",
       "      --disabled-fill-color: #666;\n",
       "  }\n",
       "\n",
       "  .colab-df-quickchart {\n",
       "    background-color: var(--bg-color);\n",
       "    border: none;\n",
       "    border-radius: 50%;\n",
       "    cursor: pointer;\n",
       "    display: none;\n",
       "    fill: var(--fill-color);\n",
       "    height: 32px;\n",
       "    padding: 0;\n",
       "    width: 32px;\n",
       "  }\n",
       "\n",
       "  .colab-df-quickchart:hover {\n",
       "    background-color: var(--hover-bg-color);\n",
       "    box-shadow: 0 1px 2px rgba(60, 64, 67, 0.3), 0 1px 3px 1px rgba(60, 64, 67, 0.15);\n",
       "    fill: var(--button-hover-fill-color);\n",
       "  }\n",
       "\n",
       "  .colab-df-quickchart-complete:disabled,\n",
       "  .colab-df-quickchart-complete:disabled:hover {\n",
       "    background-color: var(--disabled-bg-color);\n",
       "    fill: var(--disabled-fill-color);\n",
       "    box-shadow: none;\n",
       "  }\n",
       "\n",
       "  .colab-df-spinner {\n",
       "    border: 2px solid var(--fill-color);\n",
       "    border-color: transparent;\n",
       "    border-bottom-color: var(--fill-color);\n",
       "    animation:\n",
       "      spin 1s steps(1) infinite;\n",
       "  }\n",
       "\n",
       "  @keyframes spin {\n",
       "    0% {\n",
       "      border-color: transparent;\n",
       "      border-bottom-color: var(--fill-color);\n",
       "      border-left-color: var(--fill-color);\n",
       "    }\n",
       "    20% {\n",
       "      border-color: transparent;\n",
       "      border-left-color: var(--fill-color);\n",
       "      border-top-color: var(--fill-color);\n",
       "    }\n",
       "    30% {\n",
       "      border-color: transparent;\n",
       "      border-left-color: var(--fill-color);\n",
       "      border-top-color: var(--fill-color);\n",
       "      border-right-color: var(--fill-color);\n",
       "    }\n",
       "    40% {\n",
       "      border-color: transparent;\n",
       "      border-right-color: var(--fill-color);\n",
       "      border-top-color: var(--fill-color);\n",
       "    }\n",
       "    60% {\n",
       "      border-color: transparent;\n",
       "      border-right-color: var(--fill-color);\n",
       "    }\n",
       "    80% {\n",
       "      border-color: transparent;\n",
       "      border-right-color: var(--fill-color);\n",
       "      border-bottom-color: var(--fill-color);\n",
       "    }\n",
       "    90% {\n",
       "      border-color: transparent;\n",
       "      border-bottom-color: var(--fill-color);\n",
       "    }\n",
       "  }\n",
       "</style>\n",
       "\n",
       "  <script>\n",
       "    async function quickchart(key) {\n",
       "      const quickchartButtonEl =\n",
       "        document.querySelector('#' + key + ' button');\n",
       "      quickchartButtonEl.disabled = true;  // To prevent multiple clicks.\n",
       "      quickchartButtonEl.classList.add('colab-df-spinner');\n",
       "      try {\n",
       "        const charts = await google.colab.kernel.invokeFunction(\n",
       "            'suggestCharts', [key], {});\n",
       "      } catch (error) {\n",
       "        console.error('Error during call to suggestCharts:', error);\n",
       "      }\n",
       "      quickchartButtonEl.classList.remove('colab-df-spinner');\n",
       "      quickchartButtonEl.classList.add('colab-df-quickchart-complete');\n",
       "    }\n",
       "    (() => {\n",
       "      let quickchartButtonEl =\n",
       "        document.querySelector('#df-6dda7f08-d644-4787-b8e4-feefce41e4b5 button');\n",
       "      quickchartButtonEl.style.display =\n",
       "        google.colab.kernel.accessAllowed ? 'block' : 'none';\n",
       "    })();\n",
       "  </script>\n",
       "</div>\n",
       "\n",
       "    </div>\n",
       "  </div>\n"
      ],
      "text/plain": [
       "          X         Y  class\n",
       "0  2.115098 -0.046244    1.0\n",
       "1  0.882490 -0.075756    0.0\n",
       "2 -0.055144 -0.037332    1.0\n",
       "3  0.829545 -0.539321    1.0\n",
       "4  2.112857  0.662084    1.0"
      ]
     },
     "execution_count": 6,
     "metadata": {},
     "output_type": "execute_result"
    }
   ],
   "source": [
    "df.head()"
   ]
  },
  {
   "cell_type": "code",
   "execution_count": 7,
   "metadata": {
    "colab": {
     "base_uri": "https://localhost:8080/",
     "height": 447
    },
    "id": "RVZsP_RH-VZy",
    "outputId": "540d6b8a-1be1-4b8b-b3a8-5c8279a9aab4"
   },
   "outputs": [
    {
     "data": {
      "text/plain": [
       "<matplotlib.collections.PathCollection at 0x7cbb88dd9930>"
      ]
     },
     "execution_count": 7,
     "metadata": {},
     "output_type": "execute_result"
    },
    {
     "data": {
      "image/png": "[encoded data removed]",
      "text/plain": [
       "<Figure size 640x480 with 1 Axes>"
      ]
     },
     "metadata": {},
     "output_type": "display_data"
    }
   ],
   "source": [
    "plt.scatter(df['X'],df['Y'],c=df['class'])"
   ]
  },
  {
   "cell_type": "code",
   "execution_count": 8,
   "metadata": {
    "id": "cUPCva1p-X-0"
   },
   "outputs": [],
   "source": [
    "X = df.iloc[:,0:2].values\n",
    "y = df.iloc[:,-1].values"
   ]
  },
  {
   "cell_type": "code",
   "execution_count": 9,
   "metadata": {
    "id": "9-wKaTVB_DxH"
   },
   "outputs": [],
   "source": [
    "import tensorflow\n",
    "from tensorflow import keras\n",
    "from keras import Sequential\n",
    "from keras.layers import Dense"
   ]
  },
  {
   "cell_type": "code",
   "execution_count": 27,
   "metadata": {
    "colab": {
     "base_uri": "https://localhost:8080/"
    },
    "id": "ltsn_4L__H-9",
    "outputId": "aa95553f-406c-450c-9105-67d27aaa6b62"
   },
   "outputs": [
    {
     "name": "stdout",
     "output_type": "stream",
     "text": [
      "Model: \"sequential_1\"\n",
      "_________________________________________________________________\n",
      " Layer (type)                Output Shape              Param #   \n",
      "=================================================================\n",
      " dense_2 (Dense)             (None, 2)                 6         \n",
      "                                                                 \n",
      " dense_3 (Dense)             (None, 1)                 3         \n",
      "                                                                 \n",
      "=================================================================\n",
      "Total params: 9 (36.00 Byte)\n",
      "Trainable params: 9 (36.00 Byte)\n",
      "Non-trainable params: 0 (0.00 Byte)\n",
      "_________________________________________________________________\n"
     ]
    }
   ],
   "source": [
    "model = Sequential()\n",
    "\n",
    "model.add(Dense(2,activation='relu',input_dim=2))\n",
    "model.add(Dense(1,activation='relu'))\n",
    "\n",
    "model.summary()"
   ]
  },
  {
   "cell_type": "code",
   "execution_count": 28,
   "metadata": {
    "colab": {
     "base_uri": "https://localhost:8080/"
    },
    "id": "Bx09oLtS_LTL",
    "outputId": "28f0204c-14d1-44f1-f15a-58857aca3f8c"
   },
   "outputs": [
    {
     "data": {
      "text/plain": [
       "[array([[-0.6667371 ,  0.6463139 ],\n",
       "        [-0.29384828, -0.9152915 ]], dtype=float32),\n",
       " array([0., 0.], dtype=float32),\n",
       " array([[ 1.3977271],\n",
       "        [-1.2205963]], dtype=float32),\n",
       " array([0.], dtype=float32)]"
      ]
     },
     "execution_count": 28,
     "metadata": {},
     "output_type": "execute_result"
    }
   ],
   "source": [
    "# Set parameters to 0\n",
    "model.get_weights()"
   ]
  },
  {
   "cell_type": "code",
   "execution_count": 29,
   "metadata": {
    "id": "aAfghipv_Oj6"
   },
   "outputs": [],
   "source": [
    "initial_weights = model.get_weights()"
   ]
  },
  {
   "cell_type": "code",
   "execution_count": 30,
   "metadata": {
    "id": "KCrhCpY7_RPw"
   },
   "outputs": [],
   "source": [
    "initial_weights[0] = np.zeros(model.get_weights()[0].shape)\n",
    "initial_weights[1] = np.zeros(model.get_weights()[1].shape)\n",
    "initial_weights[2] = np.zeros(model.get_weights()[2].shape)\n",
    "initial_weights[3] = np.zeros(model.get_weights()[3].shape)"
   ]
  },
  {
   "cell_type": "code",
   "execution_count": 31,
   "metadata": {
    "id": "H1s7gM1K_TBz"
   },
   "outputs": [],
   "source": [
    "model.set_weights(initial_weights)"
   ]
  },
  {
   "cell_type": "code",
   "execution_count": 32,
   "metadata": {
    "colab": {
     "base_uri": "https://localhost:8080/"
    },
    "id": "obhnVsoY_U8U",
    "outputId": "9697217b-4ef9-4f96-ea5b-c0064120b349"
   },
   "outputs": [
    {
     "data": {
      "text/plain": [
       "[array([[0., 0.],\n",
       "        [0., 0.]], dtype=float32),\n",
       " array([0., 0.], dtype=float32),\n",
       " array([[0.],\n",
       "        [0.]], dtype=float32),\n",
       " array([0.], dtype=float32)]"
      ]
     },
     "execution_count": 32,
     "metadata": {},
     "output_type": "execute_result"
    }
   ],
   "source": [
    "model.get_weights()"
   ]
  },
  {
   "cell_type": "code",
   "execution_count": 33,
   "metadata": {
    "id": "0ultsrq1_Wq3"
   },
   "outputs": [],
   "source": [
    "model.compile(loss='binary_crossentropy',optimizer='adam',metrics=['accuracy'])"
   ]
  },
  {
   "cell_type": "code",
   "execution_count": 34,
   "metadata": {
    "colab": {
     "base_uri": "https://localhost:8080/"
    },
    "id": "FId5jC7o_YgR",
    "outputId": "654f0386-0639-423e-ed82-e71926c62b29"
   },
   "outputs": [
    {
     "name": "stdout",
     "output_type": "stream",
     "text": [
      "Epoch 1/100\n",
      "3/3 [==============================] - 1s 105ms/step - loss: 7.8101 - accuracy: 0.4937 - val_loss: 7.7125 - val_accuracy: 0.5000\n",
      "Epoch 2/100\n",
      "3/3 [==============================] - 0s 29ms/step - loss: 7.8101 - accuracy: 0.4937 - val_loss: 7.7125 - val_accuracy: 0.5000\n",
      "Epoch 3/100\n",
      "3/3 [==============================] - 0s 19ms/step - loss: 7.8101 - accuracy: 0.4937 - val_loss: 7.7125 - val_accuracy: 0.5000\n",
      "Epoch 4/100\n",
      "3/3 [==============================] - 0s 27ms/step - loss: 7.8101 - accuracy: 0.4937 - val_loss: 7.7125 - val_accuracy: 0.5000\n",
      "Epoch 5/100\n",
      "3/3 [==============================] - 0s 19ms/step - loss: 7.8101 - accuracy: 0.4937 - val_loss: 7.7125 - val_accuracy: 0.5000\n",
      "Epoch 6/100\n",
      "3/3 [==============================] - 0s 26ms/step - loss: 7.8101 - accuracy: 0.4937 - val_loss: 7.7125 - val_accuracy: 0.5000\n",
      "Epoch 7/100\n",
      "3/3 [==============================] - 0s 27ms/step - loss: 7.8101 - accuracy: 0.4937 - val_loss: 7.7125 - val_accuracy: 0.5000\n",
      "Epoch 8/100\n",
      "3/3 [==============================] - 0s 33ms/step - loss: 7.8101 - accuracy: 0.4937 - val_loss: 7.7125 - val_accuracy: 0.5000\n",
      "Epoch 9/100\n",
      "3/3 [==============================] - 0s 27ms/step - loss: 7.8101 - accuracy: 0.4937 - val_loss: 7.7125 - val_accuracy: 0.5000\n",
      "Epoch 10/100\n",
      "3/3 [==============================] - 0s 17ms/step - loss: 7.8101 - accuracy: 0.4937 - val_loss: 7.7125 - val_accuracy: 0.5000\n",
      "Epoch 11/100\n",
      "3/3 [==============================] - 0s 17ms/step - loss: 7.8101 - accuracy: 0.4937 - val_loss: 7.7125 - val_accuracy: 0.5000\n",
      "Epoch 12/100\n",
      "3/3 [==============================] - 0s 25ms/step - loss: 7.8101 - accuracy: 0.4937 - val_loss: 7.7125 - val_accuracy: 0.5000\n",
      "Epoch 13/100\n",
      "3/3 [==============================] - 0s 22ms/step - loss: 7.8101 - accuracy: 0.4937 - val_loss: 7.7125 - val_accuracy: 0.5000\n",
      "Epoch 14/100\n",
      "3/3 [==============================] - 0s 17ms/step - loss: 7.8101 - accuracy: 0.4937 - val_loss: 7.7125 - val_accuracy: 0.5000\n",
      "Epoch 15/100\n",
      "3/3 [==============================] - 0s 26ms/step - loss: 7.8101 - accuracy: 0.4937 - val_loss: 7.7125 - val_accuracy: 0.5000\n",
      "Epoch 16/100\n",
      "3/3 [==============================] - 0s 19ms/step - loss: 7.8101 - accuracy: 0.4937 - val_loss: 7.7125 - val_accuracy: 0.5000\n",
      "Epoch 17/100\n",
      "3/3 [==============================] - 0s 28ms/step - loss: 7.8101 - accuracy: 0.4937 - val_loss: 7.7125 - val_accuracy: 0.5000\n",
      "Epoch 18/100\n",
      "3/3 [==============================] - 0s 24ms/step - loss: 7.8101 - accuracy: 0.4937 - val_loss: 7.7125 - val_accuracy: 0.5000\n",
      "Epoch 19/100\n",
      "3/3 [==============================] - 0s 22ms/step - loss: 7.8101 - accuracy: 0.4937 - val_loss: 7.7125 - val_accuracy: 0.5000\n",
      "Epoch 20/100\n",
      "3/3 [==============================] - 0s 18ms/step - loss: 7.8101 - accuracy: 0.4937 - val_loss: 7.7125 - val_accuracy: 0.5000\n",
      "Epoch 21/100\n",
      "3/3 [==============================] - 0s 18ms/step - loss: 7.8101 - accuracy: 0.4937 - val_loss: 7.7125 - val_accuracy: 0.5000\n",
      "Epoch 22/100\n",
      "3/3 [==============================] - 0s 27ms/step - loss: 7.8101 - accuracy: 0.4937 - val_loss: 7.7125 - val_accuracy: 0.5000\n",
      "Epoch 23/100\n",
      "3/3 [==============================] - 0s 26ms/step - loss: 7.8101 - accuracy: 0.4937 - val_loss: 7.7125 - val_accuracy: 0.5000\n",
      "Epoch 24/100\n",
      "3/3 [==============================] - 0s 17ms/step - loss: 7.8101 - accuracy: 0.4937 - val_loss: 7.7125 - val_accuracy: 0.5000\n",
      "Epoch 25/100\n",
      "3/3 [==============================] - 0s 28ms/step - loss: 7.8101 - accuracy: 0.4937 - val_loss: 7.7125 - val_accuracy: 0.5000\n",
      "Epoch 26/100\n",
      "3/3 [==============================] - 0s 24ms/step - loss: 7.8101 - accuracy: 0.4937 - val_loss: 7.7125 - val_accuracy: 0.5000\n",
      "Epoch 27/100\n",
      "3/3 [==============================] - 0s 27ms/step - loss: 7.8101 - accuracy: 0.4937 - val_loss: 7.7125 - val_accuracy: 0.5000\n",
      "Epoch 28/100\n",
      "3/3 [==============================] - 0s 21ms/step - loss: 7.8101 - accuracy: 0.4937 - val_loss: 7.7125 - val_accuracy: 0.5000\n",
      "Epoch 29/100\n",
      "3/3 [==============================] - 0s 27ms/step - loss: 7.8101 - accuracy: 0.4937 - val_loss: 7.7125 - val_accuracy: 0.5000\n",
      "Epoch 30/100\n",
      "3/3 [==============================] - 0s 19ms/step - loss: 7.8101 - accuracy: 0.4937 - val_loss: 7.7125 - val_accuracy: 0.5000\n",
      "Epoch 31/100\n",
      "3/3 [==============================] - 0s 20ms/step - loss: 7.8101 - accuracy: 0.4937 - val_loss: 7.7125 - val_accuracy: 0.5000\n",
      "Epoch 32/100\n",
      "3/3 [==============================] - 0s 17ms/step - loss: 7.8101 - accuracy: 0.4937 - val_loss: 7.7125 - val_accuracy: 0.5000\n",
      "Epoch 33/100\n",
      "3/3 [==============================] - 0s 27ms/step - loss: 7.8101 - accuracy: 0.4937 - val_loss: 7.7125 - val_accuracy: 0.5000\n",
      "Epoch 34/100\n",
      "3/3 [==============================] - 0s 17ms/step - loss: 7.8101 - accuracy: 0.4937 - val_loss: 7.7125 - val_accuracy: 0.5000\n",
      "Epoch 35/100\n",
      "3/3 [==============================] - 0s 19ms/step - loss: 7.8101 - accuracy: 0.4937 - val_loss: 7.7125 - val_accuracy: 0.5000\n",
      "Epoch 36/100\n",
      "3/3 [==============================] - 0s 17ms/step - loss: 7.8101 - accuracy: 0.4937 - val_loss: 7.7125 - val_accuracy: 0.5000\n",
      "Epoch 37/100\n",
      "3/3 [==============================] - 0s 20ms/step - loss: 7.8101 - accuracy: 0.4937 - val_loss: 7.7125 - val_accuracy: 0.5000\n",
      "Epoch 38/100\n",
      "3/3 [==============================] - 0s 25ms/step - loss: 7.8101 - accuracy: 0.4937 - val_loss: 7.7125 - val_accuracy: 0.5000\n",
      "Epoch 39/100\n",
      "3/3 [==============================] - 0s 21ms/step - loss: 7.8101 - accuracy: 0.4937 - val_loss: 7.7125 - val_accuracy: 0.5000\n",
      "Epoch 40/100\n",
      "3/3 [==============================] - 0s 18ms/step - loss: 7.8101 - accuracy: 0.4937 - val_loss: 7.7125 - val_accuracy: 0.5000\n",
      "Epoch 41/100\n",
      "3/3 [==============================] - 0s 18ms/step - loss: 7.8101 - accuracy: 0.4937 - val_loss: 7.7125 - val_accuracy: 0.5000\n",
      "Epoch 42/100\n",
      "3/3 [==============================] - 0s 17ms/step - loss: 7.8101 - accuracy: 0.4937 - val_loss: 7.7125 - val_accuracy: 0.5000\n",
      "Epoch 43/100\n",
      "3/3 [==============================] - 0s 17ms/step - loss: 7.8101 - accuracy: 0.4937 - val_loss: 7.7125 - val_accuracy: 0.5000\n",
      "Epoch 44/100\n",
      "3/3 [==============================] - 0s 17ms/step - loss: 7.8101 - accuracy: 0.4937 - val_loss: 7.7125 - val_accuracy: 0.5000\n",
      "Epoch 45/100\n",
      "3/3 [==============================] - 0s 27ms/step - loss: 7.8101 - accuracy: 0.4937 - val_loss: 7.7125 - val_accuracy: 0.5000\n",
      "Epoch 46/100\n",
      "3/3 [==============================] - 0s 19ms/step - loss: 7.8101 - accuracy: 0.4937 - val_loss: 7.7125 - val_accuracy: 0.5000\n",
      "Epoch 47/100\n",
      "3/3 [==============================] - 0s 21ms/step - loss: 7.8101 - accuracy: 0.4937 - val_loss: 7.7125 - val_accuracy: 0.5000\n",
      "Epoch 48/100\n",
      "3/3 [==============================] - 0s 19ms/step - loss: 7.8101 - accuracy: 0.4937 - val_loss: 7.7125 - val_accuracy: 0.5000\n",
      "Epoch 49/100\n",
      "3/3 [==============================] - 0s 27ms/step - loss: 7.8101 - accuracy: 0.4937 - val_loss: 7.7125 - val_accuracy: 0.5000\n",
      "Epoch 50/100\n",
      "3/3 [==============================] - 0s 17ms/step - loss: 7.8101 - accuracy: 0.4937 - val_loss: 7.7125 - val_accuracy: 0.5000\n",
      "Epoch 51/100\n",
      "3/3 [==============================] - 0s 18ms/step - loss: 7.8101 - accuracy: 0.4937 - val_loss: 7.7125 - val_accuracy: 0.5000\n",
      "Epoch 52/100\n",
      "3/3 [==============================] - 0s 17ms/step - loss: 7.8101 - accuracy: 0.4937 - val_loss: 7.7125 - val_accuracy: 0.5000\n",
      "Epoch 53/100\n",
      "3/3 [==============================] - 0s 18ms/step - loss: 7.8101 - accuracy: 0.4937 - val_loss: 7.7125 - val_accuracy: 0.5000\n",
      "Epoch 54/100\n",
      "3/3 [==============================] - 0s 17ms/step - loss: 7.8101 - accuracy: 0.4937 - val_loss: 7.7125 - val_accuracy: 0.5000\n",
      "Epoch 55/100\n",
      "3/3 [==============================] - 0s 19ms/step - loss: 7.8101 - accuracy: 0.4937 - val_loss: 7.7125 - val_accuracy: 0.5000\n",
      "Epoch 56/100\n",
      "3/3 [==============================] - 0s 18ms/step - loss: 7.8101 - accuracy: 0.4937 - val_loss: 7.7125 - val_accuracy: 0.5000\n",
      "Epoch 57/100\n",
      "3/3 [==============================] - 0s 18ms/step - loss: 7.8101 - accuracy: 0.4937 - val_loss: 7.7125 - val_accuracy: 0.5000\n",
      "Epoch 58/100\n",
      "3/3 [==============================] - 0s 19ms/step - loss: 7.8101 - accuracy: 0.4937 - val_loss: 7.7125 - val_accuracy: 0.5000\n",
      "Epoch 59/100\n",
      "3/3 [==============================] - 0s 17ms/step - loss: 7.8101 - accuracy: 0.4937 - val_loss: 7.7125 - val_accuracy: 0.5000\n",
      "Epoch 60/100\n",
      "3/3 [==============================] - 0s 17ms/step - loss: 7.8101 - accuracy: 0.4937 - val_loss: 7.7125 - val_accuracy: 0.5000\n",
      "Epoch 61/100\n",
      "3/3 [==============================] - 0s 17ms/step - loss: 7.8101 - accuracy: 0.4937 - val_loss: 7.7125 - val_accuracy: 0.5000\n",
      "Epoch 62/100\n",
      "3/3 [==============================] - 0s 18ms/step - loss: 7.8101 - accuracy: 0.4937 - val_loss: 7.7125 - val_accuracy: 0.5000\n",
      "Epoch 63/100\n",
      "3/3 [==============================] - 0s 18ms/step - loss: 7.8101 - accuracy: 0.4937 - val_loss: 7.7125 - val_accuracy: 0.5000\n",
      "Epoch 64/100\n",
      "3/3 [==============================] - 0s 26ms/step - loss: 7.8101 - accuracy: 0.4937 - val_loss: 7.7125 - val_accuracy: 0.5000\n",
      "Epoch 65/100\n",
      "3/3 [==============================] - 0s 20ms/step - loss: 7.8101 - accuracy: 0.4937 - val_loss: 7.7125 - val_accuracy: 0.5000\n",
      "Epoch 66/100\n",
      "3/3 [==============================] - 0s 31ms/step - loss: 7.8101 - accuracy: 0.4937 - val_loss: 7.7125 - val_accuracy: 0.5000\n",
      "Epoch 67/100\n",
      "3/3 [==============================] - 0s 25ms/step - loss: 7.8101 - accuracy: 0.4937 - val_loss: 7.7125 - val_accuracy: 0.5000\n",
      "Epoch 68/100\n",
      "3/3 [==============================] - 0s 18ms/step - loss: 7.8101 - accuracy: 0.4937 - val_loss: 7.7125 - val_accuracy: 0.5000\n",
      "Epoch 69/100\n",
      "3/3 [==============================] - 0s 17ms/step - loss: 7.8101 - accuracy: 0.4937 - val_loss: 7.7125 - val_accuracy: 0.5000\n",
      "Epoch 70/100\n",
      "3/3 [==============================] - 0s 27ms/step - loss: 7.8101 - accuracy: 0.4937 - val_loss: 7.7125 - val_accuracy: 0.5000\n",
      "Epoch 71/100\n",
      "3/3 [==============================] - 0s 16ms/step - loss: 7.8101 - accuracy: 0.4937 - val_loss: 7.7125 - val_accuracy: 0.5000\n",
      "Epoch 72/100\n",
      "3/3 [==============================] - 0s 18ms/step - loss: 7.8101 - accuracy: 0.4937 - val_loss: 7.7125 - val_accuracy: 0.5000\n",
      "Epoch 73/100\n",
      "3/3 [==============================] - 0s 18ms/step - loss: 7.8101 - accuracy: 0.4937 - val_loss: 7.7125 - val_accuracy: 0.5000\n",
      "Epoch 74/100\n",
      "3/3 [==============================] - 0s 16ms/step - loss: 7.8101 - accuracy: 0.4937 - val_loss: 7.7125 - val_accuracy: 0.5000\n",
      "Epoch 75/100\n",
      "3/3 [==============================] - 0s 17ms/step - loss: 7.8101 - accuracy: 0.4937 - val_loss: 7.7125 - val_accuracy: 0.5000\n",
      "Epoch 76/100\n",
      "3/3 [==============================] - 0s 17ms/step - loss: 7.8101 - accuracy: 0.4937 - val_loss: 7.7125 - val_accuracy: 0.5000\n",
      "Epoch 77/100\n",
      "3/3 [==============================] - 0s 17ms/step - loss: 7.8101 - accuracy: 0.4937 - val_loss: 7.7125 - val_accuracy: 0.5000\n",
      "Epoch 78/100\n",
      "3/3 [==============================] - 0s 26ms/step - loss: 7.8101 - accuracy: 0.4937 - val_loss: 7.7125 - val_accuracy: 0.5000\n",
      "Epoch 79/100\n",
      "3/3 [==============================] - 0s 20ms/step - loss: 7.8101 - accuracy: 0.4937 - val_loss: 7.7125 - val_accuracy: 0.5000\n",
      "Epoch 80/100\n",
      "3/3 [==============================] - 0s 20ms/step - loss: 7.8101 - accuracy: 0.4937 - val_loss: 7.7125 - val_accuracy: 0.5000\n",
      "Epoch 81/100\n",
      "3/3 [==============================] - 0s 20ms/step - loss: 7.8101 - accuracy: 0.4937 - val_loss: 7.7125 - val_accuracy: 0.5000\n",
      "Epoch 82/100\n",
      "3/3 [==============================] - 0s 27ms/step - loss: 7.8101 - accuracy: 0.4937 - val_loss: 7.7125 - val_accuracy: 0.5000\n",
      "Epoch 83/100\n",
      "3/3 [==============================] - 0s 18ms/step - loss: 7.8101 - accuracy: 0.4937 - val_loss: 7.7125 - val_accuracy: 0.5000\n",
      "Epoch 84/100\n",
      "3/3 [==============================] - 0s 18ms/step - loss: 7.8101 - accuracy: 0.4937 - val_loss: 7.7125 - val_accuracy: 0.5000\n",
      "Epoch 85/100\n",
      "3/3 [==============================] - 0s 19ms/step - loss: 7.8101 - accuracy: 0.4937 - val_loss: 7.7125 - val_accuracy: 0.5000\n",
      "Epoch 86/100\n",
      "3/3 [==============================] - 0s 31ms/step - loss: 7.8101 - accuracy: 0.4937 - val_loss: 7.7125 - val_accuracy: 0.5000\n",
      "Epoch 87/100\n",
      "3/3 [==============================] - 0s 21ms/step - loss: 7.8101 - accuracy: 0.4937 - val_loss: 7.7125 - val_accuracy: 0.5000\n",
      "Epoch 88/100\n",
      "3/3 [==============================] - 0s 28ms/step - loss: 7.8101 - accuracy: 0.4937 - val_loss: 7.7125 - val_accuracy: 0.5000\n",
      "Epoch 89/100\n",
      "3/3 [==============================] - 0s 18ms/step - loss: 7.8101 - accuracy: 0.4937 - val_loss: 7.7125 - val_accuracy: 0.5000\n",
      "Epoch 90/100\n",
      "3/3 [==============================] - 0s 17ms/step - loss: 7.8101 - accuracy: 0.4937 - val_loss: 7.7125 - val_accuracy: 0.5000\n",
      "Epoch 91/100\n",
      "3/3 [==============================] - 0s 17ms/step - loss: 7.8101 - accuracy: 0.4937 - val_loss: 7.7125 - val_accuracy: 0.5000\n",
      "Epoch 92/100\n",
      "3/3 [==============================] - 0s 18ms/step - loss: 7.8101 - accuracy: 0.4937 - val_loss: 7.7125 - val_accuracy: 0.5000\n",
      "Epoch 93/100\n",
      "3/3 [==============================] - 0s 17ms/step - loss: 7.8101 - accuracy: 0.4937 - val_loss: 7.7125 - val_accuracy: 0.5000\n",
      "Epoch 94/100\n",
      "3/3 [==============================] - 0s 18ms/step - loss: 7.8101 - accuracy: 0.4937 - val_loss: 7.7125 - val_accuracy: 0.5000\n",
      "Epoch 95/100\n",
      "3/3 [==============================] - 0s 17ms/step - loss: 7.8101 - accuracy: 0.4937 - val_loss: 7.7125 - val_accuracy: 0.5000\n",
      "Epoch 96/100\n",
      "3/3 [==============================] - 0s 19ms/step - loss: 7.8101 - accuracy: 0.4937 - val_loss: 7.7125 - val_accuracy: 0.5000\n",
      "Epoch 97/100\n",
      "3/3 [==============================] - 0s 17ms/step - loss: 7.8101 - accuracy: 0.4937 - val_loss: 7.7125 - val_accuracy: 0.5000\n",
      "Epoch 98/100\n",
      "3/3 [==============================] - 0s 18ms/step - loss: 7.8101 - accuracy: 0.4937 - val_loss: 7.7125 - val_accuracy: 0.5000\n",
      "Epoch 99/100\n",
      "3/3 [==============================] - 0s 20ms/step - loss: 7.8101 - accuracy: 0.4937 - val_loss: 7.7125 - val_accuracy: 0.5000\n",
      "Epoch 100/100\n",
      "3/3 [==============================] - 0s 18ms/step - loss: 7.8101 - accuracy: 0.4937 - val_loss: 7.7125 - val_accuracy: 0.5000\n"
     ]
    }
   ],
   "source": [
    "history = model.fit(X,y,epochs=100,validation_split=0.2)"
   ]
  },
  {
   "cell_type": "code",
   "execution_count": 35,
   "metadata": {
    "colab": {
     "base_uri": "https://localhost:8080/"
    },
    "id": "j_852BOp_aJO",
    "outputId": "0761ebfb-fee6-4bc3-dda8-d2396a854678"
   },
   "outputs": [
    {
     "data": {
      "text/plain": [
       "[array([[0., 0.],\n",
       "        [0., 0.]], dtype=float32),\n",
       " array([0., 0.], dtype=float32),\n",
       " array([[0.],\n",
       "        [0.]], dtype=float32),\n",
       " array([0.], dtype=float32)]"
      ]
     },
     "execution_count": 35,
     "metadata": {},
     "output_type": "execute_result"
    }
   ],
   "source": [
    "model.get_weights()"
   ]
  },
  {
   "cell_type": "code",
   "execution_count": 36,
   "metadata": {
    "colab": {
     "base_uri": "https://localhost:8080/",
     "height": 465
    },
    "id": "Hgs5edv4_cbO",
    "outputId": "3d724069-22b6-498b-9aac-7f325c3e5918"
   },
   "outputs": [
    {
     "name": "stdout",
     "output_type": "stream",
     "text": [
      "9600/9600 [==============================] - 14s 1ms/step\n"
     ]
    },
    {
     "data": {
      "text/plain": [
       "<Axes: >"
      ]
     },
     "execution_count": 36,
     "metadata": {},
     "output_type": "execute_result"
    },
    {
     "data": {
      "image/png": "[encoded data removed]",
      "text/plain": [
       "<Figure size 640x480 with 1 Axes>"
      ]
     },
     "metadata": {},
     "output_type": "display_data"
    }
   ],
   "source": [
    "from mlxtend.plotting import plot_decision_regions\n",
    "plot_decision_regions(X,y.astype('int'), clf=model, legend=2)"
   ]
  },
  {
   "cell_type": "markdown",
   "metadata": {
    "id": "x5NMph5HC71r"
   },
   "source": [
    "2. **Non Zero constant but all weights will be same**\n",
    "\n",
    "This will behave like linear model, could not capture any non linearity\n",
    "\n",
    "That's mean\n",
    "\n",
    "z_11 = z_12\n",
    "\n",
    "a_11 = a_12\n",
    "\n",
    "That's mean no matter how many nodes you put in hidden layer they all will behave like a singal node. as their weight and bais are same and input is normalized(so input will not be that much change)"
   ]
  },
  {
   "cell_type": "code",
   "execution_count": 37,
   "metadata": {
    "colab": {
     "base_uri": "https://localhost:8080/"
    },
    "id": "Z-Gjq4wM_eY3",
    "outputId": "2ffd8be9-89c0-4d50-834f-7121bc42d417"
   },
   "outputs": [
    {
     "name": "stdout",
     "output_type": "stream",
     "text": [
      "Model: \"sequential_2\"\n",
      "_________________________________________________________________\n",
      " Layer (type)                Output Shape              Param #   \n",
      "=================================================================\n",
      " dense_4 (Dense)             (None, 2)                 6         \n",
      "                                                                 \n",
      " dense_5 (Dense)             (None, 1)                 3         \n",
      "                                                                 \n",
      "=================================================================\n",
      "Total params: 9 (36.00 Byte)\n",
      "Trainable params: 9 (36.00 Byte)\n",
      "Non-trainable params: 0 (0.00 Byte)\n",
      "_________________________________________________________________\n"
     ]
    }
   ],
   "source": [
    "model = Sequential()\n",
    "\n",
    "model.add(Dense(2,activation='relu',input_dim=2))\n",
    "model.add(Dense(1,activation='relu'))\n",
    "\n",
    "model.summary()"
   ]
  },
  {
   "cell_type": "code",
   "execution_count": 38,
   "metadata": {
    "colab": {
     "base_uri": "https://localhost:8080/"
    },
    "id": "HQsCf9XlD7vB",
    "outputId": "2685e6ae-6e6c-4d50-8434-9ded2f798d6d"
   },
   "outputs": [
    {
     "data": {
      "text/plain": [
       "[array([[ 0.80533373, -0.29360855],\n",
       "        [ 0.9539231 ,  0.48294497]], dtype=float32),\n",
       " array([0., 0.], dtype=float32),\n",
       " array([[-0.10134625],\n",
       "        [ 1.2598404 ]], dtype=float32),\n",
       " array([0.], dtype=float32)]"
      ]
     },
     "execution_count": 38,
     "metadata": {},
     "output_type": "execute_result"
    }
   ],
   "source": [
    "# Set parameters to 0\n",
    "model.get_weights()"
   ]
  },
  {
   "cell_type": "code",
   "execution_count": 39,
   "metadata": {
    "id": "zHt4d4nKEA3Q"
   },
   "outputs": [],
   "source": [
    "initial_weights = model.get_weights()"
   ]
  },
  {
   "cell_type": "code",
   "execution_count": 40,
   "metadata": {
    "id": "pOlJ0337EFjl"
   },
   "outputs": [],
   "source": [
    "initial_weights[0] = np.ones(model.get_weights()[0].shape)*0.5\n",
    "initial_weights[1] = np.ones(model.get_weights()[1].shape)*0.5\n",
    "initial_weights[2] = np.ones(model.get_weights()[2].shape)*0.5\n",
    "initial_weights[3] = np.ones(model.get_weights()[3].shape)*0.5"
   ]
  },
  {
   "cell_type": "code",
   "execution_count": 41,
   "metadata": {
    "id": "7Z85rBWTEUTp"
   },
   "outputs": [],
   "source": [
    "model.set_weights(initial_weights)"
   ]
  },
  {
   "cell_type": "code",
   "execution_count": 42,
   "metadata": {
    "colab": {
     "base_uri": "https://localhost:8080/"
    },
    "id": "3kT0n61nEZag",
    "outputId": "e2b60a9a-eb04-4a37-a603-66e353f31d40"
   },
   "outputs": [
    {
     "data": {
      "text/plain": [
       "[array([[0.5, 0.5],\n",
       "        [0.5, 0.5]], dtype=float32),\n",
       " array([0.5, 0.5], dtype=float32),\n",
       " array([[0.5],\n",
       "        [0.5]], dtype=float32),\n",
       " array([0.5], dtype=float32)]"
      ]
     },
     "execution_count": 42,
     "metadata": {},
     "output_type": "execute_result"
    }
   ],
   "source": [
    "model.get_weights()"
   ]
  },
  {
   "cell_type": "code",
   "execution_count": 43,
   "metadata": {
    "id": "TXdh6X-uEbzG"
   },
   "outputs": [],
   "source": [
    "model.compile(loss='binary_crossentropy',optimizer='adam',metrics=['accuracy'])"
   ]
  },
  {
   "cell_type": "code",
   "execution_count": 44,
   "metadata": {
    "colab": {
     "base_uri": "https://localhost:8080/"
    },
    "id": "Splq-LaDErJk",
    "outputId": "5999465a-9444-488d-acab-5d2405af4c73"
   },
   "outputs": [
    {
     "name": "stdout",
     "output_type": "stream",
     "text": [
      "Epoch 1/50\n",
      "3/3 [==============================] - 1s 158ms/step - loss: 6.2966 - accuracy: 0.5190 - val_loss: 4.1279 - val_accuracy: 0.6000\n",
      "Epoch 2/50\n",
      "3/3 [==============================] - 0s 27ms/step - loss: 6.2918 - accuracy: 0.5190 - val_loss: 4.1212 - val_accuracy: 0.6000\n",
      "Epoch 3/50\n",
      "3/3 [==============================] - 0s 37ms/step - loss: 6.1921 - accuracy: 0.5190 - val_loss: 4.1156 - val_accuracy: 0.6000\n",
      "Epoch 4/50\n",
      "3/3 [==============================] - 0s 36ms/step - loss: 6.1564 - accuracy: 0.5190 - val_loss: 4.1117 - val_accuracy: 0.6000\n",
      "Epoch 5/50\n",
      "3/3 [==============================] - 0s 41ms/step - loss: 6.0557 - accuracy: 0.5190 - val_loss: 4.1072 - val_accuracy: 0.6000\n",
      "Epoch 6/50\n",
      "3/3 [==============================] - 0s 33ms/step - loss: 6.0121 - accuracy: 0.5190 - val_loss: 4.1032 - val_accuracy: 0.6000\n",
      "Epoch 7/50\n",
      "3/3 [==============================] - 0s 30ms/step - loss: 6.0015 - accuracy: 0.5316 - val_loss: 4.1000 - val_accuracy: 0.6000\n",
      "Epoch 8/50\n",
      "3/3 [==============================] - 0s 33ms/step - loss: 5.9939 - accuracy: 0.5316 - val_loss: 4.0975 - val_accuracy: 0.6000\n",
      "Epoch 9/50\n",
      "3/3 [==============================] - 0s 30ms/step - loss: 5.9895 - accuracy: 0.5316 - val_loss: 4.0956 - val_accuracy: 0.6000\n",
      "Epoch 10/50\n",
      "3/3 [==============================] - 0s 31ms/step - loss: 5.9861 - accuracy: 0.5316 - val_loss: 4.0939 - val_accuracy: 0.6000\n",
      "Epoch 11/50\n",
      "3/3 [==============================] - 0s 31ms/step - loss: 5.9829 - accuracy: 0.5316 - val_loss: 4.0926 - val_accuracy: 0.6500\n",
      "Epoch 12/50\n",
      "3/3 [==============================] - 0s 33ms/step - loss: 5.9806 - accuracy: 0.5316 - val_loss: 4.0915 - val_accuracy: 0.6500\n",
      "Epoch 13/50\n",
      "3/3 [==============================] - 0s 22ms/step - loss: 5.9791 - accuracy: 0.5316 - val_loss: 4.0906 - val_accuracy: 0.6500\n",
      "Epoch 14/50\n",
      "3/3 [==============================] - 0s 30ms/step - loss: 5.9773 - accuracy: 0.5316 - val_loss: 4.0897 - val_accuracy: 0.6500\n",
      "Epoch 15/50\n",
      "3/3 [==============================] - 0s 21ms/step - loss: 5.9764 - accuracy: 0.5316 - val_loss: 4.0889 - val_accuracy: 0.6500\n",
      "Epoch 16/50\n",
      "3/3 [==============================] - 0s 21ms/step - loss: 5.9754 - accuracy: 0.5316 - val_loss: 4.0881 - val_accuracy: 0.6500\n",
      "Epoch 17/50\n",
      "3/3 [==============================] - 0s 22ms/step - loss: 5.9743 - accuracy: 0.5316 - val_loss: 4.0874 - val_accuracy: 0.6500\n",
      "Epoch 18/50\n",
      "3/3 [==============================] - 0s 32ms/step - loss: 5.9735 - accuracy: 0.5316 - val_loss: 4.0868 - val_accuracy: 0.6500\n",
      "Epoch 19/50\n",
      "3/3 [==============================] - 0s 27ms/step - loss: 5.9725 - accuracy: 0.5316 - val_loss: 4.0862 - val_accuracy: 0.6500\n",
      "Epoch 20/50\n",
      "3/3 [==============================] - 0s 34ms/step - loss: 5.9718 - accuracy: 0.5316 - val_loss: 4.0857 - val_accuracy: 0.6500\n",
      "Epoch 21/50\n",
      "3/3 [==============================] - 0s 23ms/step - loss: 5.9712 - accuracy: 0.5316 - val_loss: 4.0851 - val_accuracy: 0.6500\n",
      "Epoch 22/50\n",
      "3/3 [==============================] - 0s 31ms/step - loss: 5.9706 - accuracy: 0.5316 - val_loss: 4.0846 - val_accuracy: 0.6500\n",
      "Epoch 23/50\n",
      "3/3 [==============================] - 0s 32ms/step - loss: 5.9699 - accuracy: 0.5316 - val_loss: 4.0841 - val_accuracy: 0.6500\n",
      "Epoch 24/50\n",
      "3/3 [==============================] - 0s 31ms/step - loss: 5.9693 - accuracy: 0.5316 - val_loss: 4.0837 - val_accuracy: 0.6500\n",
      "Epoch 25/50\n",
      "3/3 [==============================] - 0s 34ms/step - loss: 5.9687 - accuracy: 0.5316 - val_loss: 4.0832 - val_accuracy: 0.6500\n",
      "Epoch 26/50\n",
      "3/3 [==============================] - 0s 29ms/step - loss: 5.9681 - accuracy: 0.5316 - val_loss: 4.0826 - val_accuracy: 0.6500\n",
      "Epoch 27/50\n",
      "3/3 [==============================] - 0s 32ms/step - loss: 5.9676 - accuracy: 0.5316 - val_loss: 4.0821 - val_accuracy: 0.6500\n",
      "Epoch 28/50\n",
      "3/3 [==============================] - 0s 31ms/step - loss: 5.9671 - accuracy: 0.5316 - val_loss: 4.0816 - val_accuracy: 0.6500\n",
      "Epoch 29/50\n",
      "3/3 [==============================] - 0s 39ms/step - loss: 5.9664 - accuracy: 0.5316 - val_loss: 4.0811 - val_accuracy: 0.6500\n",
      "Epoch 30/50\n",
      "3/3 [==============================] - 0s 33ms/step - loss: 5.9657 - accuracy: 0.5316 - val_loss: 4.0807 - val_accuracy: 0.6500\n",
      "Epoch 31/50\n",
      "3/3 [==============================] - 0s 34ms/step - loss: 5.9654 - accuracy: 0.5316 - val_loss: 4.0802 - val_accuracy: 0.6500\n",
      "Epoch 32/50\n",
      "3/3 [==============================] - 0s 34ms/step - loss: 5.9648 - accuracy: 0.5316 - val_loss: 4.0797 - val_accuracy: 0.6500\n",
      "Epoch 33/50\n",
      "3/3 [==============================] - 0s 31ms/step - loss: 5.9641 - accuracy: 0.5316 - val_loss: 4.0793 - val_accuracy: 0.6500\n",
      "Epoch 34/50\n",
      "3/3 [==============================] - 0s 30ms/step - loss: 5.9637 - accuracy: 0.5316 - val_loss: 4.0789 - val_accuracy: 0.6500\n",
      "Epoch 35/50\n",
      "3/3 [==============================] - 0s 23ms/step - loss: 5.9632 - accuracy: 0.5316 - val_loss: 4.0785 - val_accuracy: 0.6500\n",
      "Epoch 36/50\n",
      "3/3 [==============================] - 0s 35ms/step - loss: 5.9625 - accuracy: 0.5316 - val_loss: 4.0780 - val_accuracy: 0.6500\n",
      "Epoch 37/50\n",
      "3/3 [==============================] - 0s 41ms/step - loss: 5.9621 - accuracy: 0.5316 - val_loss: 4.0776 - val_accuracy: 0.6500\n",
      "Epoch 38/50\n",
      "3/3 [==============================] - 0s 28ms/step - loss: 5.8592 - accuracy: 0.5316 - val_loss: 4.0758 - val_accuracy: 0.6500\n",
      "Epoch 39/50\n",
      "3/3 [==============================] - 0s 45ms/step - loss: 5.8356 - accuracy: 0.5443 - val_loss: 4.0718 - val_accuracy: 0.6500\n",
      "Epoch 40/50\n",
      "3/3 [==============================] - 0s 37ms/step - loss: 5.8124 - accuracy: 0.5443 - val_loss: 4.0690 - val_accuracy: 0.6500\n",
      "Epoch 41/50\n",
      "3/3 [==============================] - 0s 26ms/step - loss: 5.8071 - accuracy: 0.5443 - val_loss: 4.0670 - val_accuracy: 0.6500\n",
      "Epoch 42/50\n",
      "3/3 [==============================] - 0s 34ms/step - loss: 5.8025 - accuracy: 0.5443 - val_loss: 4.0655 - val_accuracy: 0.6500\n",
      "Epoch 43/50\n",
      "3/3 [==============================] - 0s 34ms/step - loss: 5.7985 - accuracy: 0.5443 - val_loss: 4.0643 - val_accuracy: 0.6500\n",
      "Epoch 44/50\n",
      "3/3 [==============================] - 0s 29ms/step - loss: 5.7966 - accuracy: 0.5443 - val_loss: 4.0633 - val_accuracy: 0.6500\n",
      "Epoch 45/50\n",
      "3/3 [==============================] - 0s 31ms/step - loss: 5.7948 - accuracy: 0.5570 - val_loss: 4.0625 - val_accuracy: 0.6500\n",
      "Epoch 46/50\n",
      "3/3 [==============================] - 0s 27ms/step - loss: 5.7929 - accuracy: 0.5570 - val_loss: 4.0618 - val_accuracy: 0.6500\n",
      "Epoch 47/50\n",
      "3/3 [==============================] - 0s 24ms/step - loss: 5.7920 - accuracy: 0.5570 - val_loss: 4.0612 - val_accuracy: 0.6500\n",
      "Epoch 48/50\n",
      "3/3 [==============================] - 0s 31ms/step - loss: 5.7908 - accuracy: 0.5570 - val_loss: 4.0607 - val_accuracy: 0.6500\n",
      "Epoch 49/50\n",
      "3/3 [==============================] - 0s 30ms/step - loss: 5.7900 - accuracy: 0.5570 - val_loss: 4.0603 - val_accuracy: 0.6500\n",
      "Epoch 50/50\n",
      "3/3 [==============================] - 0s 25ms/step - loss: 5.7891 - accuracy: 0.5570 - val_loss: 4.0599 - val_accuracy: 0.6500\n"
     ]
    }
   ],
   "source": [
    "history = model.fit(X,y,epochs=50,validation_split=0.2)"
   ]
  },
  {
   "cell_type": "code",
   "execution_count": 45,
   "metadata": {
    "colab": {
     "base_uri": "https://localhost:8080/"
    },
    "id": "wN3FU1K0ExUS",
    "outputId": "97da939d-0aa9-4f3f-ce23-218e902962c2"
   },
   "outputs": [
    {
     "data": {
      "text/plain": [
       "[array([[0.533479  , 0.533479  ],\n",
       "        [0.46836197, 0.46836197]], dtype=float32),\n",
       " array([0.47013217, 0.47013217], dtype=float32),\n",
       " array([[0.4735542],\n",
       "        [0.4735542]], dtype=float32),\n",
       " array([0.46910077], dtype=float32)]"
      ]
     },
     "execution_count": 45,
     "metadata": {},
     "output_type": "execute_result"
    }
   ],
   "source": [
    "model.get_weights()"
   ]
  },
  {
   "cell_type": "code",
   "execution_count": 46,
   "metadata": {
    "colab": {
     "base_uri": "https://localhost:8080/",
     "height": 465
    },
    "id": "ol7RZdIEE13N",
    "outputId": "bb6bcdaf-bc53-457c-a144-e0a6dfffcf39"
   },
   "outputs": [
    {
     "name": "stdout",
     "output_type": "stream",
     "text": [
      "9600/9600 [==============================] - 18s 2ms/step\n"
     ]
    },
    {
     "data": {
      "text/plain": [
       "<Axes: >"
      ]
     },
     "execution_count": 46,
     "metadata": {},
     "output_type": "execute_result"
    },
    {
     "data": {
      "image/png": "[encoded data removed]",
      "text/plain": [
       "<Figure size 640x480 with 1 Axes>"
      ]
     },
     "metadata": {},
     "output_type": "display_data"
    }
   ],
   "source": [
    "plot_decision_regions(X,y.astype('int'), clf=model, legend=2)"
   ]
  },
  {
   "cell_type": "markdown",
   "metadata": {
    "id": "OlWmjpYpFOfO"
   },
   "source": [
    "3. **Random weight initilization**\n",
    "- If weight values intilized is **very small** e.g 0.01. It will make weighted sum of node veryyy small. As our input is normalized. During backpropagation, when we take derivative it will become even smaller. This will lead to **vanishing gradient problem**.\n",
    "\n",
    "- If large values( between 0 to 1). It will lead to activation function saturation that leads to slow training and in worst case vanishing gradient can be caused."
   ]
  },
  {
   "cell_type": "markdown",
   "metadata": {
    "id": "Yu7geR_nIVfT"
   },
   "source": [
    "## **What can be Done?**\n",
    "\n",
    "1. Heuristic\n",
    "  1. Xavier/Glorat init\n",
    "  \n",
    "   Xavier (also known as Glorot) initialization aims to keep the variance of activations and gradients consistent across layers. It initializes weights from a uniform or normal distribution with a scale factor based on the number of input and output units in the layer. This technique is effective for tanh and sigmoid activation functions.\r\n",
    "In Keras, you can use glorot_uniform or glorot_normal as the weight initializer to implement Xavier initialization. \n",
    "     \n",
    "     - Normal\n",
    "\n",
    "        √1/fan_in\n",
    "\n",
    "        Where fan_in is the number of inputs for that node\n",
    "    - Uniform\n",
    "\n",
    "    [-limit, limit]\n",
    "\n",
    "    where, limit = √6/(fan_in+fan_out)\n",
    "\n",
    "  2. He ini\n",
    "     t   \n",
    "    He initialization is similar to Xavier/Glorot initialization but uses a different scale factor that accounts for the specific activation function being used. It is more suitable for activation functions like ReLU and its variants, which have a different activation scale compared to tanh and sigmoid.\r\n",
    "In Keras, you can use he_uniform or he_normal as the weight initializer to implement He initialization.\n",
    "      - Normal\n",
    "\n",
    "        √2/fan_in\n",
    "\n",
    "    - Uniform\n",
    "\n",
    "        [-limit, limit]\n",
    "\n",
    "        where, limit = √6/(fan_in)\n",
    "\n",
    "If you are working with Tanh or sigmoid you should use Xavier. If working with ReLu, should use He. Both are implemented in Keras.\n"
   ]
  },
  {
   "cell_type": "code",
   "execution_count": 61,
   "metadata": {
    "colab": {
     "base_uri": "https://localhost:8080/"
    },
    "id": "IBOTjpCWPVMU",
    "outputId": "9468f6ce-f657-4e99-c1c5-fa54dba2280d"
   },
   "outputs": [
    {
     "name": "stdout",
     "output_type": "stream",
     "text": [
      "Model: \"sequential_4\"\n",
      "_________________________________________________________________\n",
      " Layer (type)                Output Shape              Param #   \n",
      "=================================================================\n",
      " dense_8 (Dense)             (None, 2)                 6         \n",
      "                                                                 \n",
      " dense_9 (Dense)             (None, 1)                 3         \n",
      "                                                                 \n",
      "=================================================================\n",
      "Total params: 9 (36.00 Byte)\n",
      "Trainable params: 9 (36.00 Byte)\n",
      "Non-trainable params: 0 (0.00 Byte)\n",
      "_________________________________________________________________\n"
     ]
    }
   ],
   "source": [
    "model = Sequential()\n",
    "\n",
    "model.add(Dense(2,activation='tanh',input_dim=2))\n",
    "model.add(Dense(1,activation='sigmoid'))\n",
    "\n",
    "model.summary()"
   ]
  },
  {
   "cell_type": "code",
   "execution_count": 62,
   "metadata": {
    "id": "zmqaNKMPE6uK"
   },
   "outputs": [],
   "source": [
    "initial_weights = model.get_weights()"
   ]
  },
  {
   "cell_type": "code",
   "execution_count": 63,
   "metadata": {
    "id": "ZZmcAB5NNiBt"
   },
   "outputs": [],
   "source": [
    "initial_weights[0] = np.random.rand(2,2)*np.sqrt(1/2)\n",
    "initial_weights[1] = np.zeros(model.get_weights()[1].shape)\n",
    "initial_weights[2] = np.random.rand(2,1)*np.sqrt(1/2)\n",
    "initial_weights[3] = np.zeros(model.get_weights()[3].shape)"
   ]
  },
  {
   "cell_type": "code",
   "execution_count": 64,
   "metadata": {
    "id": "rOd0kbGTOgQO"
   },
   "outputs": [],
   "source": [
    "model.set_weights(initial_weights)"
   ]
  },
  {
   "cell_type": "code",
   "execution_count": 65,
   "metadata": {
    "colab": {
     "base_uri": "https://localhost:8080/"
    },
    "id": "7JKFzN1QOkza",
    "outputId": "dab6a3e1-8d8e-4364-fb37-12a04ca487ff"
   },
   "outputs": [
    {
     "data": {
      "text/plain": [
       "[array([[0.15263155, 0.50098825],\n",
       "        [0.15190113, 0.5409394 ]], dtype=float32),\n",
       " array([0., 0.], dtype=float32),\n",
       " array([[0.5531261 ],\n",
       "        [0.45080018]], dtype=float32),\n",
       " array([0.], dtype=float32)]"
      ]
     },
     "execution_count": 65,
     "metadata": {},
     "output_type": "execute_result"
    }
   ],
   "source": [
    "model.get_weights()"
   ]
  },
  {
   "cell_type": "code",
   "execution_count": 66,
   "metadata": {
    "id": "VFfDSmTBOqAz"
   },
   "outputs": [],
   "source": [
    "model.compile(loss='binary_crossentropy',optimizer='adam',metrics=['accuracy'])"
   ]
  },
  {
   "cell_type": "code",
   "execution_count": 67,
   "metadata": {
    "colab": {
     "base_uri": "https://localhost:8080/"
    },
    "id": "fjUOexS_Ow5X",
    "outputId": "01bb08b4-a0e5-4258-d950-8858378e9566"
   },
   "outputs": [
    {
     "name": "stdout",
     "output_type": "stream",
     "text": [
      "Epoch 1/100\n",
      "3/3 [==============================] - 1s 110ms/step - loss: 0.7061 - accuracy: 0.4937 - val_loss: 0.6645 - val_accuracy: 0.7000\n",
      "Epoch 2/100\n",
      "3/3 [==============================] - 0s 19ms/step - loss: 0.7050 - accuracy: 0.5063 - val_loss: 0.6633 - val_accuracy: 0.7000\n",
      "Epoch 3/100\n",
      "3/3 [==============================] - 0s 18ms/step - loss: 0.7039 - accuracy: 0.5063 - val_loss: 0.6622 - val_accuracy: 0.7000\n",
      "Epoch 4/100\n",
      "3/3 [==============================] - 0s 18ms/step - loss: 0.7028 - accuracy: 0.5190 - val_loss: 0.6610 - val_accuracy: 0.7000\n",
      "Epoch 5/100\n",
      "3/3 [==============================] - 0s 32ms/step - loss: 0.7017 - accuracy: 0.5190 - val_loss: 0.6599 - val_accuracy: 0.7000\n",
      "Epoch 6/100\n",
      "3/3 [==============================] - 0s 28ms/step - loss: 0.7007 - accuracy: 0.5316 - val_loss: 0.6588 - val_accuracy: 0.7000\n",
      "Epoch 7/100\n",
      "3/3 [==============================] - 0s 19ms/step - loss: 0.6996 - accuracy: 0.5443 - val_loss: 0.6577 - val_accuracy: 0.7000\n",
      "Epoch 8/100\n",
      "3/3 [==============================] - 0s 28ms/step - loss: 0.6987 - accuracy: 0.5443 - val_loss: 0.6566 - val_accuracy: 0.7000\n",
      "Epoch 9/100\n",
      "3/3 [==============================] - 0s 21ms/step - loss: 0.6978 - accuracy: 0.5443 - val_loss: 0.6555 - val_accuracy: 0.7000\n",
      "Epoch 10/100\n",
      "3/3 [==============================] - 0s 27ms/step - loss: 0.6968 - accuracy: 0.5443 - val_loss: 0.6544 - val_accuracy: 0.7000\n",
      "Epoch 11/100\n",
      "3/3 [==============================] - 0s 20ms/step - loss: 0.6958 - accuracy: 0.5443 - val_loss: 0.6533 - val_accuracy: 0.7000\n",
      "Epoch 12/100\n",
      "3/3 [==============================] - 0s 27ms/step - loss: 0.6949 - accuracy: 0.5443 - val_loss: 0.6522 - val_accuracy: 0.7000\n",
      "Epoch 13/100\n",
      "3/3 [==============================] - 0s 19ms/step - loss: 0.6939 - accuracy: 0.5570 - val_loss: 0.6511 - val_accuracy: 0.7000\n",
      "Epoch 14/100\n",
      "3/3 [==============================] - 0s 18ms/step - loss: 0.6931 - accuracy: 0.5570 - val_loss: 0.6500 - val_accuracy: 0.7000\n",
      "Epoch 15/100\n",
      "3/3 [==============================] - 0s 17ms/step - loss: 0.6921 - accuracy: 0.5570 - val_loss: 0.6489 - val_accuracy: 0.7000\n",
      "Epoch 16/100\n",
      "3/3 [==============================] - 0s 17ms/step - loss: 0.6911 - accuracy: 0.5570 - val_loss: 0.6478 - val_accuracy: 0.7000\n",
      "Epoch 17/100\n",
      "3/3 [==============================] - 0s 20ms/step - loss: 0.6903 - accuracy: 0.5696 - val_loss: 0.6468 - val_accuracy: 0.7000\n",
      "Epoch 18/100\n",
      "3/3 [==============================] - 0s 19ms/step - loss: 0.6894 - accuracy: 0.5696 - val_loss: 0.6458 - val_accuracy: 0.7000\n",
      "Epoch 19/100\n",
      "3/3 [==============================] - 0s 27ms/step - loss: 0.6884 - accuracy: 0.5696 - val_loss: 0.6448 - val_accuracy: 0.7000\n",
      "Epoch 20/100\n",
      "3/3 [==============================] - 0s 27ms/step - loss: 0.6876 - accuracy: 0.5696 - val_loss: 0.6437 - val_accuracy: 0.6500\n",
      "Epoch 21/100\n",
      "3/3 [==============================] - 0s 26ms/step - loss: 0.6866 - accuracy: 0.5696 - val_loss: 0.6426 - val_accuracy: 0.6500\n",
      "Epoch 22/100\n",
      "3/3 [==============================] - 0s 26ms/step - loss: 0.6857 - accuracy: 0.5696 - val_loss: 0.6416 - val_accuracy: 0.6500\n",
      "Epoch 23/100\n",
      "3/3 [==============================] - 0s 22ms/step - loss: 0.6849 - accuracy: 0.5696 - val_loss: 0.6405 - val_accuracy: 0.6500\n",
      "Epoch 24/100\n",
      "3/3 [==============================] - 0s 18ms/step - loss: 0.6840 - accuracy: 0.5696 - val_loss: 0.6395 - val_accuracy: 0.6500\n",
      "Epoch 25/100\n",
      "3/3 [==============================] - 0s 19ms/step - loss: 0.6831 - accuracy: 0.5696 - val_loss: 0.6384 - val_accuracy: 0.6500\n",
      "Epoch 26/100\n",
      "3/3 [==============================] - 0s 19ms/step - loss: 0.6823 - accuracy: 0.5696 - val_loss: 0.6373 - val_accuracy: 0.7000\n",
      "Epoch 27/100\n",
      "3/3 [==============================] - 0s 20ms/step - loss: 0.6814 - accuracy: 0.5696 - val_loss: 0.6362 - val_accuracy: 0.7000\n",
      "Epoch 28/100\n",
      "3/3 [==============================] - 0s 27ms/step - loss: 0.6805 - accuracy: 0.5696 - val_loss: 0.6352 - val_accuracy: 0.7000\n",
      "Epoch 29/100\n",
      "3/3 [==============================] - 0s 18ms/step - loss: 0.6796 - accuracy: 0.5696 - val_loss: 0.6342 - val_accuracy: 0.7000\n",
      "Epoch 30/100\n",
      "3/3 [==============================] - 0s 19ms/step - loss: 0.6788 - accuracy: 0.5696 - val_loss: 0.6331 - val_accuracy: 0.7000\n",
      "Epoch 31/100\n",
      "3/3 [==============================] - 0s 18ms/step - loss: 0.6779 - accuracy: 0.5570 - val_loss: 0.6321 - val_accuracy: 0.7000\n",
      "Epoch 32/100\n",
      "3/3 [==============================] - 0s 26ms/step - loss: 0.6770 - accuracy: 0.5570 - val_loss: 0.6310 - val_accuracy: 0.6500\n",
      "Epoch 33/100\n",
      "3/3 [==============================] - 0s 26ms/step - loss: 0.6762 - accuracy: 0.5570 - val_loss: 0.6300 - val_accuracy: 0.6500\n",
      "Epoch 34/100\n",
      "3/3 [==============================] - 0s 26ms/step - loss: 0.6753 - accuracy: 0.5570 - val_loss: 0.6288 - val_accuracy: 0.6500\n",
      "Epoch 35/100\n",
      "3/3 [==============================] - 0s 26ms/step - loss: 0.6744 - accuracy: 0.5570 - val_loss: 0.6277 - val_accuracy: 0.6500\n",
      "Epoch 36/100\n",
      "3/3 [==============================] - 0s 18ms/step - loss: 0.6734 - accuracy: 0.5696 - val_loss: 0.6266 - val_accuracy: 0.6500\n",
      "Epoch 37/100\n",
      "3/3 [==============================] - 0s 17ms/step - loss: 0.6727 - accuracy: 0.5696 - val_loss: 0.6255 - val_accuracy: 0.6500\n",
      "Epoch 38/100\n",
      "3/3 [==============================] - 0s 19ms/step - loss: 0.6718 - accuracy: 0.5570 - val_loss: 0.6244 - val_accuracy: 0.6500\n",
      "Epoch 39/100\n",
      "3/3 [==============================] - 0s 19ms/step - loss: 0.6708 - accuracy: 0.5570 - val_loss: 0.6233 - val_accuracy: 0.6500\n",
      "Epoch 40/100\n",
      "3/3 [==============================] - 0s 19ms/step - loss: 0.6700 - accuracy: 0.5696 - val_loss: 0.6223 - val_accuracy: 0.6500\n",
      "Epoch 41/100\n",
      "3/3 [==============================] - 0s 19ms/step - loss: 0.6692 - accuracy: 0.5696 - val_loss: 0.6213 - val_accuracy: 0.6500\n",
      "Epoch 42/100\n",
      "3/3 [==============================] - 0s 23ms/step - loss: 0.6682 - accuracy: 0.5696 - val_loss: 0.6202 - val_accuracy: 0.6500\n",
      "Epoch 43/100\n",
      "3/3 [==============================] - 0s 27ms/step - loss: 0.6674 - accuracy: 0.5696 - val_loss: 0.6192 - val_accuracy: 0.6500\n",
      "Epoch 44/100\n",
      "3/3 [==============================] - 0s 18ms/step - loss: 0.6665 - accuracy: 0.5696 - val_loss: 0.6180 - val_accuracy: 0.6500\n",
      "Epoch 45/100\n",
      "3/3 [==============================] - 0s 18ms/step - loss: 0.6657 - accuracy: 0.5696 - val_loss: 0.6169 - val_accuracy: 0.6500\n",
      "Epoch 46/100\n",
      "3/3 [==============================] - 0s 29ms/step - loss: 0.6648 - accuracy: 0.5696 - val_loss: 0.6157 - val_accuracy: 0.6500\n",
      "Epoch 47/100\n",
      "3/3 [==============================] - 0s 18ms/step - loss: 0.6639 - accuracy: 0.5696 - val_loss: 0.6145 - val_accuracy: 0.6500\n",
      "Epoch 48/100\n",
      "3/3 [==============================] - 0s 19ms/step - loss: 0.6630 - accuracy: 0.5696 - val_loss: 0.6134 - val_accuracy: 0.6500\n",
      "Epoch 49/100\n",
      "3/3 [==============================] - 0s 18ms/step - loss: 0.6622 - accuracy: 0.5696 - val_loss: 0.6121 - val_accuracy: 0.6500\n",
      "Epoch 50/100\n",
      "3/3 [==============================] - 0s 26ms/step - loss: 0.6612 - accuracy: 0.5823 - val_loss: 0.6109 - val_accuracy: 0.6500\n",
      "Epoch 51/100\n",
      "3/3 [==============================] - 0s 19ms/step - loss: 0.6604 - accuracy: 0.5949 - val_loss: 0.6097 - val_accuracy: 0.6500\n",
      "Epoch 52/100\n",
      "3/3 [==============================] - 0s 19ms/step - loss: 0.6594 - accuracy: 0.5949 - val_loss: 0.6086 - val_accuracy: 0.6500\n",
      "Epoch 53/100\n",
      "3/3 [==============================] - 0s 27ms/step - loss: 0.6585 - accuracy: 0.5949 - val_loss: 0.6073 - val_accuracy: 0.6500\n",
      "Epoch 54/100\n",
      "3/3 [==============================] - 0s 26ms/step - loss: 0.6576 - accuracy: 0.5949 - val_loss: 0.6060 - val_accuracy: 0.6500\n",
      "Epoch 55/100\n",
      "3/3 [==============================] - 0s 17ms/step - loss: 0.6567 - accuracy: 0.5949 - val_loss: 0.6047 - val_accuracy: 0.6500\n",
      "Epoch 56/100\n",
      "3/3 [==============================] - 0s 20ms/step - loss: 0.6558 - accuracy: 0.5949 - val_loss: 0.6035 - val_accuracy: 0.6500\n",
      "Epoch 57/100\n",
      "3/3 [==============================] - 0s 19ms/step - loss: 0.6548 - accuracy: 0.5949 - val_loss: 0.6023 - val_accuracy: 0.7000\n",
      "Epoch 58/100\n",
      "3/3 [==============================] - 0s 27ms/step - loss: 0.6538 - accuracy: 0.5823 - val_loss: 0.6011 - val_accuracy: 0.7000\n",
      "Epoch 59/100\n",
      "3/3 [==============================] - 0s 18ms/step - loss: 0.6529 - accuracy: 0.5823 - val_loss: 0.5998 - val_accuracy: 0.7000\n",
      "Epoch 60/100\n",
      "3/3 [==============================] - 0s 18ms/step - loss: 0.6519 - accuracy: 0.5696 - val_loss: 0.5986 - val_accuracy: 0.7000\n",
      "Epoch 61/100\n",
      "3/3 [==============================] - 0s 21ms/step - loss: 0.6509 - accuracy: 0.5570 - val_loss: 0.5974 - val_accuracy: 0.7000\n",
      "Epoch 62/100\n",
      "3/3 [==============================] - 0s 17ms/step - loss: 0.6500 - accuracy: 0.5570 - val_loss: 0.5961 - val_accuracy: 0.7000\n",
      "Epoch 63/100\n",
      "3/3 [==============================] - 0s 17ms/step - loss: 0.6490 - accuracy: 0.5570 - val_loss: 0.5949 - val_accuracy: 0.7000\n",
      "Epoch 64/100\n",
      "3/3 [==============================] - 0s 26ms/step - loss: 0.6481 - accuracy: 0.5570 - val_loss: 0.5936 - val_accuracy: 0.7000\n",
      "Epoch 65/100\n",
      "3/3 [==============================] - 0s 19ms/step - loss: 0.6471 - accuracy: 0.5570 - val_loss: 0.5924 - val_accuracy: 0.7000\n",
      "Epoch 66/100\n",
      "3/3 [==============================] - 0s 18ms/step - loss: 0.6460 - accuracy: 0.5570 - val_loss: 0.5912 - val_accuracy: 0.7000\n",
      "Epoch 67/100\n",
      "3/3 [==============================] - 0s 17ms/step - loss: 0.6451 - accuracy: 0.5570 - val_loss: 0.5901 - val_accuracy: 0.7000\n",
      "Epoch 68/100\n",
      "3/3 [==============================] - 0s 26ms/step - loss: 0.6441 - accuracy: 0.5570 - val_loss: 0.5889 - val_accuracy: 0.7000\n",
      "Epoch 69/100\n",
      "3/3 [==============================] - 0s 17ms/step - loss: 0.6432 - accuracy: 0.5570 - val_loss: 0.5877 - val_accuracy: 0.7000\n",
      "Epoch 70/100\n",
      "3/3 [==============================] - 0s 25ms/step - loss: 0.6422 - accuracy: 0.5570 - val_loss: 0.5866 - val_accuracy: 0.7000\n",
      "Epoch 71/100\n",
      "3/3 [==============================] - 0s 27ms/step - loss: 0.6412 - accuracy: 0.5570 - val_loss: 0.5854 - val_accuracy: 0.7000\n",
      "Epoch 72/100\n",
      "3/3 [==============================] - 0s 19ms/step - loss: 0.6402 - accuracy: 0.5570 - val_loss: 0.5842 - val_accuracy: 0.7000\n",
      "Epoch 73/100\n",
      "3/3 [==============================] - 0s 27ms/step - loss: 0.6393 - accuracy: 0.5696 - val_loss: 0.5829 - val_accuracy: 0.7000\n",
      "Epoch 74/100\n",
      "3/3 [==============================] - 0s 21ms/step - loss: 0.6383 - accuracy: 0.5696 - val_loss: 0.5817 - val_accuracy: 0.7000\n",
      "Epoch 75/100\n",
      "3/3 [==============================] - 0s 17ms/step - loss: 0.6373 - accuracy: 0.5696 - val_loss: 0.5803 - val_accuracy: 0.7000\n",
      "Epoch 76/100\n",
      "3/3 [==============================] - 0s 18ms/step - loss: 0.6362 - accuracy: 0.5696 - val_loss: 0.5791 - val_accuracy: 0.7000\n",
      "Epoch 77/100\n",
      "3/3 [==============================] - 0s 17ms/step - loss: 0.6353 - accuracy: 0.5696 - val_loss: 0.5778 - val_accuracy: 0.7000\n",
      "Epoch 78/100\n",
      "3/3 [==============================] - 0s 27ms/step - loss: 0.6343 - accuracy: 0.5696 - val_loss: 0.5765 - val_accuracy: 0.7000\n",
      "Epoch 79/100\n",
      "3/3 [==============================] - 0s 18ms/step - loss: 0.6333 - accuracy: 0.5696 - val_loss: 0.5753 - val_accuracy: 0.7000\n",
      "Epoch 80/100\n",
      "3/3 [==============================] - 0s 31ms/step - loss: 0.6322 - accuracy: 0.5696 - val_loss: 0.5739 - val_accuracy: 0.7000\n",
      "Epoch 81/100\n",
      "3/3 [==============================] - 0s 18ms/step - loss: 0.6313 - accuracy: 0.5696 - val_loss: 0.5726 - val_accuracy: 0.7000\n",
      "Epoch 82/100\n",
      "3/3 [==============================] - 0s 19ms/step - loss: 0.6302 - accuracy: 0.5696 - val_loss: 0.5712 - val_accuracy: 0.7000\n",
      "Epoch 83/100\n",
      "3/3 [==============================] - 0s 21ms/step - loss: 0.6292 - accuracy: 0.5823 - val_loss: 0.5698 - val_accuracy: 0.7000\n",
      "Epoch 84/100\n",
      "3/3 [==============================] - 0s 27ms/step - loss: 0.6282 - accuracy: 0.5949 - val_loss: 0.5684 - val_accuracy: 0.7000\n",
      "Epoch 85/100\n",
      "3/3 [==============================] - 0s 18ms/step - loss: 0.6271 - accuracy: 0.6076 - val_loss: 0.5670 - val_accuracy: 0.7000\n",
      "Epoch 86/100\n",
      "3/3 [==============================] - 0s 17ms/step - loss: 0.6262 - accuracy: 0.6076 - val_loss: 0.5656 - val_accuracy: 0.7000\n",
      "Epoch 87/100\n",
      "3/3 [==============================] - 0s 26ms/step - loss: 0.6251 - accuracy: 0.6076 - val_loss: 0.5642 - val_accuracy: 0.7000\n",
      "Epoch 88/100\n",
      "3/3 [==============================] - 0s 17ms/step - loss: 0.6241 - accuracy: 0.6076 - val_loss: 0.5628 - val_accuracy: 0.7000\n",
      "Epoch 89/100\n",
      "3/3 [==============================] - 0s 17ms/step - loss: 0.6231 - accuracy: 0.6076 - val_loss: 0.5614 - val_accuracy: 0.7000\n",
      "Epoch 90/100\n",
      "3/3 [==============================] - 0s 18ms/step - loss: 0.6222 - accuracy: 0.6076 - val_loss: 0.5600 - val_accuracy: 0.7000\n",
      "Epoch 91/100\n",
      "3/3 [==============================] - 0s 28ms/step - loss: 0.6211 - accuracy: 0.6076 - val_loss: 0.5587 - val_accuracy: 0.7000\n",
      "Epoch 92/100\n",
      "3/3 [==============================] - 0s 18ms/step - loss: 0.6201 - accuracy: 0.6203 - val_loss: 0.5573 - val_accuracy: 0.7500\n",
      "Epoch 93/100\n",
      "3/3 [==============================] - 0s 17ms/step - loss: 0.6191 - accuracy: 0.6203 - val_loss: 0.5560 - val_accuracy: 0.7500\n",
      "Epoch 94/100\n",
      "3/3 [==============================] - 0s 17ms/step - loss: 0.6180 - accuracy: 0.6329 - val_loss: 0.5548 - val_accuracy: 0.7500\n",
      "Epoch 95/100\n",
      "3/3 [==============================] - 0s 18ms/step - loss: 0.6171 - accuracy: 0.6329 - val_loss: 0.5535 - val_accuracy: 0.7500\n",
      "Epoch 96/100\n",
      "3/3 [==============================] - 0s 18ms/step - loss: 0.6162 - accuracy: 0.6329 - val_loss: 0.5523 - val_accuracy: 0.7500\n",
      "Epoch 97/100\n",
      "3/3 [==============================] - 0s 19ms/step - loss: 0.6150 - accuracy: 0.6456 - val_loss: 0.5510 - val_accuracy: 0.7500\n",
      "Epoch 98/100\n",
      "3/3 [==============================] - 0s 26ms/step - loss: 0.6141 - accuracy: 0.6456 - val_loss: 0.5496 - val_accuracy: 0.7500\n",
      "Epoch 99/100\n",
      "3/3 [==============================] - 0s 19ms/step - loss: 0.6130 - accuracy: 0.6582 - val_loss: 0.5484 - val_accuracy: 0.7500\n",
      "Epoch 100/100\n",
      "3/3 [==============================] - 0s 30ms/step - loss: 0.6119 - accuracy: 0.6582 - val_loss: 0.5471 - val_accuracy: 0.7500\n"
     ]
    }
   ],
   "source": [
    "history = model.fit(X,y,epochs=100,validation_split=0.2)"
   ]
  },
  {
   "cell_type": "code",
   "execution_count": 68,
   "metadata": {
    "colab": {
     "base_uri": "https://localhost:8080/"
    },
    "id": "JcQZwRC2O1U1",
    "outputId": "4831babd-0612-4997-8f2c-0ce1c33b9aae"
   },
   "outputs": [
    {
     "data": {
      "text/plain": [
       "[array([[ 0.39653534,  0.71536046],\n",
       "        [-0.15352662,  0.26816443]], dtype=float32),\n",
       " array([-0.11161704, -0.04133931], dtype=float32),\n",
       " array([[0.8318146 ],\n",
       "        [0.39143807]], dtype=float32),\n",
       " array([-0.08182601], dtype=float32)]"
      ]
     },
     "execution_count": 68,
     "metadata": {},
     "output_type": "execute_result"
    }
   ],
   "source": [
    "model.get_weights()"
   ]
  },
  {
   "cell_type": "code",
   "execution_count": 69,
   "metadata": {
    "colab": {
     "base_uri": "https://localhost:8080/",
     "height": 465
    },
    "id": "VXIryRFIO5HE",
    "outputId": "8f69b9a8-260f-4f72-d1ae-8afe5f5f9861"
   },
   "outputs": [
    {
     "name": "stdout",
     "output_type": "stream",
     "text": [
      "9600/9600 [==============================] - 14s 1ms/step\n"
     ]
    },
    {
     "data": {
      "text/plain": [
       "<Axes: >"
      ]
     },
     "execution_count": 69,
     "metadata": {},
     "output_type": "execute_result"
    },
    {
     "data": {
      "image/png": "[encoded data removed]",
      "text/plain": [
       "<Figure size 640x480 with 1 Axes>"
      ]
     },
     "metadata": {},
     "output_type": "display_data"
    }
   ],
   "source": [
    "plot_decision_regions(X,y.astype('int'), clf=model, legend=2)"
   ]
  },
  {
   "cell_type": "code",
   "execution_count": null,
   "metadata": {
    "id": "9gd29C7lO9H2"
   },
   "outputs": [],
   "source": []
  }
 ],
 "metadata": {
  "colab": {
   "authorship_tag": "ABX9TyP9Z91a0MqckUbRvAGV56Zw",
   "include_colab_link": true,
   "provenance": []
  },
  "kernelspec": {
   "display_name": "Python 3 (ipykernel)",
   "language": "python",
   "name": "python3"
  },
  "language_info": {
   "codemirror_mode": {
    "name": "ipython",
    "version": 3
   },
   "file_extension": ".py",
   "mimetype": "text/x-python",
   "name": "python",
   "nbconvert_exporter": "python",
   "pygments_lexer": "ipython3",
   "version": "3.11.8"
  }
 },
 "nbformat": 4,
 "nbformat_minor": 4
}
