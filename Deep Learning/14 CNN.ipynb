{
 "cells": [
  {
   "cell_type": "markdown",
   "metadata": {
    "colab_type": "text",
    "id": "view-in-github"
   },
   "source": [
    "<a href=\"https://colab.research.google.com/github/rida-manzoor/DL/blob/main/CNN.ipynb\" target=\"_parent\"><img src=\"https://colab.research.google.com/assets/colab-badge.svg\" alt=\"Open In Colab\"/></a>"
   ]
  },
  {
   "cell_type": "markdown",
   "metadata": {
    "id": "C_R7aN6wGxS4"
   },
   "source": [
    "# Convolutional Neural Network(CNN)\n",
    "CNN also known as covnet, are special kind of neural network for processing data that has a known grid like topology like time series data(1D) or images(2D)\n",
    "\n",
    "1998 Yann Lecun\n",
    "\n",
    "## **Why we can not use ANN**\n",
    "\n",
    "1. When image size will increase, weights will also increase, training time will get larger along with computational cost.\n",
    "2. Overfitting\n",
    "3. Loss imp info like spatial arrangement of pixel"
   ]
  },
  {
   "cell_type": "markdown",
   "metadata": {
    "id": "gqCcR66dGMEs"
   },
   "source": [
    "## CNN Intuition\n",
    "1. Extract features(Edges)\n",
    "2. Then in deep layers it combines these edges to make recognize complex features.\n",
    "\n",
    "\n",
    "## CNN vs Visual Cortex\n",
    "\n",
    "In summary we can say that there are two main types of cells in brain.\n",
    "1. Simple cells\n",
    "        Have smaller receptive field. Work on principal of preferred stimuli (can detect only one type of edge)\n",
    "2. COmplex cells\n",
    "        Have bigger receptive field. Detect higher features.\n",
    "\n",
    "\n",
    "![c.jpg](data:image/jpeg;base64,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)"
   ]
  },
  {
   "cell_type": "markdown",
   "metadata": {
    "id": "G6f4Ahp2LwgS"
   },
   "source": [
    "In 1979, by leveraging his knowledge of the visual cortex as a starting point, Dr. Fukushima invented a hierarchical neural network model, in which layers of S-cells, which extract visual features of the input pattern, are alternated with layers of C-cells that tolerate or absorb any deformations in the extracted features. He named it the **\"neocognitron**\". The neocognitron has the ability of self-organization and learns to recognize various patterns including those in text, geometric forms, and half-tone images.\n",
    "[Read More](https://www.candc.or.jp/en/2021/group_a.html#:~:text=Fukushima%20invented%20a%20hierarchical%20neural,named%20it%20the%20%22neocognitron%22.)"
   ]
  },
  {
   "cell_type": "markdown",
   "metadata": {
    "id": "gU-PllbmMaH7"
   },
   "source": [
    "## **Convolution Operation**\n",
    "\n",
    "CNN has three types of layers:\n",
    "1. Convolution layer\n",
    "2. Pooling layer\n",
    "3. Fully connected layer\n",
    "\n",
    "We mostly work with two type of images\n",
    "1. Greyscale\n",
    "2. RGB\n",
    "\n",
    "An image consists of pixels, with each pixel having a value ranging from 0 to 255 in grayscale images. In the case of RGB images, three channels act as separate layers, resembling sheets that together form the entire image. Each channel operates akin to a grayscale image, and their dimensions are typically represented as 128x128x3.\n",
    "<br><br><br>\n",
    "\n",
    "**Edge Detection**\n",
    "\n",
    "\"edge\" refers to the boundaries or transitions between different regions in an image. It represents areas where the intensity or color changes significantly, indicating the presence of objects or features.\n",
    "\n",
    "\n",
    "![sd](https://www.researchgate.net/profile/Ihab-S-Mohamed/publication/324165524/figure/fig3/AS:611103423860736@1522709818959/An-example-of-convolution-operation-in-2D-2.png)\n",
    "[link](https://www.researchgate.net/figure/An-example-of-convolution-operation-in-2D-2_fig3_324165524)\n",
    "\n",
    "At right side we have image and a filter(kernal). Filter can be 3x3 or 5x5 or whatever. Filters are used to detect edges in the image. We convolve filter over image. And matrix we get, is called feature map.\n",
    "\n",
    "For more understanding, how convolution work, see this [Demo](https://deeplizard.com/resource/pavq7noze2)\n",
    "\n",
    "\n",
    "If image is nxn and filter size is mxm, resultant feature map will be (n-m+1)x(n-m+1)\n",
    "\n",
    "## **Padding**\n",
    "\n",
    "Add column and rows of zero all around image.\n",
    "\n",
    "Result feature map will be: n+2p-f+1\n",
    "\n",
    "**WHy need padding?**\n",
    "1. Loss of information in earlier layers\n",
    "2. Avoiding Border Effects\n",
    "\n"
   ]
  },
  {
   "cell_type": "code",
   "execution_count": null,
   "metadata": {
    "id": "BHo8HHv8Gps6"
   },
   "outputs": [],
   "source": [
    "import tensorflow\n",
    "from tensorflow import keras\n",
    "from keras.layers import Dense,Conv2D, Flatten\n",
    "from keras import Sequential\n",
    "from keras.datasets import mnist"
   ]
  },
  {
   "cell_type": "code",
   "execution_count": null,
   "metadata": {
    "colab": {
     "base_uri": "https://localhost:8080/"
    },
    "id": "36gePvJY5rW9",
    "outputId": "0346a713-515e-4d94-9a54-bf901fb6099c"
   },
   "outputs": [
    {
     "name": "stdout",
     "output_type": "stream",
     "text": [
      "Downloading data from https://storage.googleapis.com/tensorflow/tf-keras-datasets/mnist.npz\n",
      "11490434/11490434 [==============================] - 0s 0us/step\n"
     ]
    }
   ],
   "source": [
    "(x_train,y_train),(x_test,y_test)=mnist.load_data()"
   ]
  },
  {
   "cell_type": "code",
   "execution_count": null,
   "metadata": {
    "id": "lYk3C3xb52-3"
   },
   "outputs": [],
   "source": [
    "model = Sequential()\n",
    "\n",
    "# Here padding can be valid or same\n",
    "\n",
    "model.add(Conv2D(32,kernel_size=(3,3),padding='same',activation='relu',input_shape=(28,28,1)))\n",
    "model.add(Conv2D(32,kernel_size=(3,3),padding='same',activation='relu'))\n",
    "model.add(Conv2D(32,kernel_size=(3,3),padding='same',activation='relu'))\n",
    "\n",
    "model.add(Flatten())\n",
    "\n",
    "model.add(Dense(128,activation='relu'))\n",
    "model.add(Dense(10,activation='softmax'))"
   ]
  },
  {
   "cell_type": "code",
   "execution_count": null,
   "metadata": {
    "colab": {
     "base_uri": "https://localhost:8080/"
    },
    "id": "kf05REHl6qhA",
    "outputId": "d8ce3757-49a3-4de6-a1c0-060a0df03e2d"
   },
   "outputs": [
    {
     "name": "stdout",
     "output_type": "stream",
     "text": [
      "Model: \"sequential_1\"\n",
      "_________________________________________________________________\n",
      " Layer (type)                Output Shape              Param #   \n",
      "=================================================================\n",
      " conv2d_3 (Conv2D)           (None, 28, 28, 32)        320       \n",
      "                                                                 \n",
      " conv2d_4 (Conv2D)           (None, 28, 28, 32)        9248      \n",
      "                                                                 \n",
      " conv2d_5 (Conv2D)           (None, 28, 28, 32)        9248      \n",
      "                                                                 \n",
      " flatten_1 (Flatten)         (None, 25088)             0         \n",
      "                                                                 \n",
      " dense_2 (Dense)             (None, 128)               3211392   \n",
      "                                                                 \n",
      " dense_3 (Dense)             (None, 10)                1290      \n",
      "                                                                 \n",
      "=================================================================\n",
      "Total params: 3231498 (12.33 MB)\n",
      "Trainable params: 3231498 (12.33 MB)\n",
      "Non-trainable params: 0 (0.00 Byte)\n",
      "_________________________________________________________________\n"
     ]
    }
   ],
   "source": [
    "model.summary()"
   ]
  },
  {
   "cell_type": "markdown",
   "metadata": {
    "id": "Q_vp6Rz37Dna"
   },
   "source": [
    "## Stride\n",
    "\n",
    "In convolutional operations, the stride is the number of positions the convolutional kernel (filter) is shifted over the input data. A larger stride reduces the spatial dimensions of the output feature map, while a smaller stride preserves more spatial information.\n",
    "\n",
    "\n",
    "For Demo how stride and padding actually work, see [Link](https://hannibunny.github.io/mlbook/neuralnetworks/convolutionDemos.html).\n",
    "\n",
    "Feature map will be of size $$\\frac{n+2p-f}{s}+1$$\n",
    "\n",
    "Here s is stride, p is padding, n is image size, and f is filter size.\n",
    "\n",
    "**Why need stride?**\n",
    "1. Want only high level features\n",
    "2. Computing power"
   ]
  },
  {
   "cell_type": "code",
   "execution_count": null,
   "metadata": {
    "id": "M8H1BfRB6sRy"
   },
   "outputs": [],
   "source": [
    "model = Sequential()\n",
    "\n",
    "# Here padding can be valid or same\n",
    "\n",
    "model.add(Conv2D(32,kernel_size=(3,3),padding='same',strides=(2,2),activation='relu',input_shape=(28,28,1)))\n",
    "model.add(Conv2D(32,kernel_size=(3,3),padding='same',strides=(2,2), activation='relu'))\n",
    "model.add(Conv2D(32,kernel_size=(3,3),padding='same',strides=(2,2), activation='relu'))\n",
    "\n",
    "model.add(Flatten())\n",
    "\n",
    "model.add(Dense(128,activation='relu'))\n",
    "model.add(Dense(10,activation='softmax'))"
   ]
  },
  {
   "cell_type": "code",
   "execution_count": null,
   "metadata": {
    "colab": {
     "base_uri": "https://localhost:8080/"
    },
    "id": "xIvzmbYq9daN",
    "outputId": "f9bac5ec-81d0-4e32-d93a-09a43bb93577"
   },
   "outputs": [
    {
     "name": "stdout",
     "output_type": "stream",
     "text": [
      "Model: \"sequential_2\"\n",
      "_________________________________________________________________\n",
      " Layer (type)                Output Shape              Param #   \n",
      "=================================================================\n",
      " conv2d_6 (Conv2D)           (None, 14, 14, 32)        320       \n",
      "                                                                 \n",
      " conv2d_7 (Conv2D)           (None, 7, 7, 32)          9248      \n",
      "                                                                 \n",
      " conv2d_8 (Conv2D)           (None, 4, 4, 32)          9248      \n",
      "                                                                 \n",
      " flatten_2 (Flatten)         (None, 512)               0         \n",
      "                                                                 \n",
      " dense_4 (Dense)             (None, 128)               65664     \n",
      "                                                                 \n",
      " dense_5 (Dense)             (None, 10)                1290      \n",
      "                                                                 \n",
      "=================================================================\n",
      "Total params: 85770 (335.04 KB)\n",
      "Trainable params: 85770 (335.04 KB)\n",
      "Non-trainable params: 0 (0.00 Byte)\n",
      "_________________________________________________________________\n"
     ]
    }
   ],
   "source": [
    "model.summary()"
   ]
  },
  {
   "cell_type": "markdown",
   "metadata": {
    "id": "VX-Ji08R9wDV"
   },
   "source": [
    "## **Pooling**\n",
    "\n",
    "**Issues with Convolution layers**\n",
    "1. Memory Issues\n",
    "2. Translation variance\n",
    "\n",
    "Suppose image size is 228x228x3 and we apply 100 3x3 filters on first convolution layer. SO resultant feature map will be 226x226x100. And if we are choose 32bit floating values to store these numbers. That's mean we have to store 226x226x100x32(19 MBs) in memory for one image. If we have 100 training images it will take around 1.5 GB space. That's why we need pooling layer to cut our computational cost.\n",
    "\n",
    "\n",
    "Translation variance in CNNs refers to the network's ability to recognize and understand patterns or features in an input data along with their specific location within the input space. In other words, the network is not able to detect patterns if they are shifted or translated spatially. We need translation invariance. That's what pooling provide us.\n",
    "\n",
    "**Why Pooling**\n",
    "\n",
    "Pooling Solve above mentioned problems thats why we use pooling.\n",
    "\n",
    "[Live Demo](https://deeplizard.com/resource/pavq7noze3)\n",
    "\n",
    "## Pooling on volumn\n",
    "If you have two feature maps it will apply pooling on both seperatedly.\n",
    "\n",
    "\n",
    "##Advantages of Pooling\n",
    "- Feature map size reduced\n",
    "- Translation invariance\n",
    "- Enhanced Featured(Only in MaxPooling)\n",
    "- No need of training\n",
    "\n",
    "\n",
    "## Types of Pooling\n",
    "In Keras, there are following types of Pooling:\n",
    "- MaxPooling\n",
    "- Average Pooling\n",
    "- GLobal Pooling(Used in end, Use this to reduce overfitting)\n",
    "    - GLobal Max Pooling\n",
    "    - Global Min Pooling\n",
    "\n",
    "\n",
    "## Disadvantages Of Pooling\n",
    "- Translation Invariance (In Image Segmentation Task)\n",
    "- Loss of Information\n"
   ]
  },
  {
   "cell_type": "markdown",
   "metadata": {
    "id": "zD5IqrURHUeX"
   },
   "source": [
    "# CNN vs ANN\n",
    "If we are working on image dataset. Let's suppose image size is 28x28.\n",
    "\n",
    "**ANN Network Will do this:**\n",
    "- COnvert 2D image into 1D. That's mean we will have 784 inputs.\n",
    "- Make Dense layers (Fully Connected)\n",
    "- Last layer with softmax function.\n",
    "\n",
    "**CNN Network will do this:**\n",
    "- Apply a filter on 2D image.(Conv layer). Also add bais for each filter.\n",
    "- Get feature map and apply ReLu on it.\n",
    "- MaxPooling layer\n",
    "- Fully connected layers\n",
    "\n",
    "\n",
    "\n",
    "**Difference**\n",
    "- In CNN learnable parameters are not dependant on input size. While in ANN it is dependent.\n",
    "\n",
    "**Similarity**\n",
    "- In"
   ]
  },
  {
   "cell_type": "markdown",
   "metadata": {
    "id": "FRzXY3OQGHO6"
   },
   "source": [
    "# Backpropagation in CNN"
   ]
  },
  {
   "cell_type": "markdown",
   "metadata": {
    "id": "qEGAeSj_vISM"
   },
   "source": [
    "Suppose we are working with this network. We have one convolution layer with only one filter, one maxpooling layer, and a fully connected layer.\n",
    "\n",
    "## Trainable Parameters\n",
    "w_1 = (3,3)\n",
    "\n",
    "b_1 = (1,1)\n",
    "\n",
    "w_2 = (1,4)\n",
    "\n",
    "b_2 = (1,1)\n",
    "\n",
    "Total trainable parameters in system will be 15.\n",
    "\n",
    "Now we want to reduce our loss same as in ML. That's mean our loss is dependent on these 4 parameters. We have to find optimal values for these parameters. So Logical diagram for above netwrok will be somewhere like this:![2wqwe.JPG](data:image/jpeg;base64,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)\n",
    "\n"
   ]
  },
  {
   "cell_type": "markdown",
   "metadata": {
    "id": "rfIg4CIwF1HR"
   },
   "source": [
    "## Forward Propagation\n",
    "\n",
    "$$ z_1 = conV(x,w_1)+b_1 $$\n",
    "$$ A_1 = relu(z_1) $$\n",
    "$$ P_1 = maxpool(A_1) $$\n",
    "$$ F = flatten(P_1) $$\n",
    "$$ z_2 = w_2.F + b_2 $$\n",
    "$$ A_2 = σ(z_2)$$\n",
    "\n",
    "\n",
    "A_2 is predicted output, it will give loss. We have to backpropagate (that's mean we have to find gradient descents) to minimize loss.\n",
    "\n",
    "## Back Propagation\n",
    "\n",
    "$$ w_1 = w_1 - η\\frac{∂L}{∂w_1} $$<br>\n",
    "$$ b_1 = b_1 - η\\frac{∂L}{∂b_1} $$<br>\n",
    "$$ w_2 = w_2 - η\\frac{∂L}{∂w_2} $$<br>\n",
    "$$ b_2 = b_2 - η\\frac{∂L}{∂w_2} $$\n",
    "\n",
    "Firstly we have to find optimum w_2. To find it's derivative we have to find:\n",
    "$$\\frac{∂L}{∂w_2} =\\frac{∂L}{∂A_2} * \\frac{∂A_2}{∂z_2} * \\frac{∂z_2}{∂w_2} $$\n",
    "<br>\n",
    "$$\\frac{∂L}{∂b_2} =\\frac{∂L}{∂A_2} * \\frac{∂A_2}{∂z_2} * \\frac{∂z_2}{∂b_2} $$\n",
    "\n",
    "We have to compute four derivatives in order to computer derivatives of w_2 and b_2.\n",
    "\n",
    "$$\\frac{∂L}{∂w_1} =\\frac{∂L}{∂A_2} * \\frac{∂A_2}{∂z_2} * \\frac{∂z_2}{∂F} * \\frac{∂F}{∂P_1} * \\frac{∂P_1}{∂A_1} * \\frac{∂A_1}{∂Fz_1} * \\frac{∂z_1}{∂w_1}$$\n",
    "<br>\n",
    "$$\\frac{∂L}{∂b_1} =\\frac{∂L}{∂A_2} * \\frac{∂A_2}{∂z_2} * \\frac{∂z_2}{∂F} * \\frac{∂F}{∂P_1} * \\frac{∂P_1}{∂A_1} * \\frac{∂A_1}{∂Fz_1} * \\frac{∂z_1}{∂b_1}$$\n",
    "\n"
   ]
  },
  {
   "cell_type": "markdown",
   "metadata": {
    "id": "DyHjt2ieF1fK"
   },
   "source": []
  },
  {
   "cell_type": "code",
   "execution_count": null,
   "metadata": {
    "id": "JNxlZj0O9fGV"
   },
   "outputs": [],
   "source": []
  }
 ],
 "metadata": {
  "colab": {
   "authorship_tag": "ABX9TyOaVV0mPbJuC4velflqoVKP",
   "include_colab_link": true,
   "provenance": []
  },
  "kernelspec": {
   "display_name": "Python 3 (ipykernel)",
   "language": "python",
   "name": "python3"
  },
  "language_info": {
   "codemirror_mode": {
    "name": "ipython",
    "version": 3
   },
   "file_extension": ".py",
   "mimetype": "text/x-python",
   "name": "python",
   "nbconvert_exporter": "python",
   "pygments_lexer": "ipython3",
   "version": "3.11.8"
  }
 },
 "nbformat": 4,
 "nbformat_minor": 4
}
